{
 "cells": [
  {
   "cell_type": "code",
   "execution_count": 10,
   "id": "eb5d63b4",
   "metadata": {},
   "outputs": [],
   "source": [
    "from ucimlrepo import fetch_ucirepo \n",
    "import pandas as pd\n",
    "import statsmodels.api as sm\n",
    "\n",
    "from sklearn.datasets import fetch_california_housing\n",
    "import matplotlib.pyplot as plt\n",
    "\n",
    "import seaborn as sns\n",
    "\n",
    "from sklearn.model_selection import train_test_split\n",
    "from statsmodels.miscmodels.ordinal_model import OrderedModel"
   ]
  },
  {
   "cell_type": "code",
   "execution_count": 9,
   "id": "0d723317-ecc3-4cba-9be4-2e227aae5497",
   "metadata": {},
   "outputs": [
    {
     "name": "stdout",
     "output_type": "stream",
     "text": [
      "Collecting ucimlrepo\n",
      "  Downloading ucimlrepo-0.0.7-py3-none-any.whl.metadata (5.5 kB)\n",
      "Requirement already satisfied: pandas>=1.0.0 in /opt/anaconda3/envs/qss20/lib/python3.10/site-packages (from ucimlrepo) (2.2.2)\n",
      "Requirement already satisfied: certifi>=2020.12.5 in /opt/anaconda3/envs/qss20/lib/python3.10/site-packages (from ucimlrepo) (2024.8.30)\n",
      "Requirement already satisfied: numpy>=1.22.4 in /opt/anaconda3/envs/qss20/lib/python3.10/site-packages (from pandas>=1.0.0->ucimlrepo) (1.26.4)\n",
      "Requirement already satisfied: python-dateutil>=2.8.2 in /opt/anaconda3/envs/qss20/lib/python3.10/site-packages (from pandas>=1.0.0->ucimlrepo) (2.9.0.post0)\n",
      "Requirement already satisfied: pytz>=2020.1 in /opt/anaconda3/envs/qss20/lib/python3.10/site-packages (from pandas>=1.0.0->ucimlrepo) (2024.1)\n",
      "Requirement already satisfied: tzdata>=2022.7 in /opt/anaconda3/envs/qss20/lib/python3.10/site-packages (from pandas>=1.0.0->ucimlrepo) (2023.3)\n",
      "Requirement already satisfied: six>=1.5 in /opt/anaconda3/envs/qss20/lib/python3.10/site-packages (from python-dateutil>=2.8.2->pandas>=1.0.0->ucimlrepo) (1.16.0)\n",
      "Downloading ucimlrepo-0.0.7-py3-none-any.whl (8.0 kB)\n",
      "Installing collected packages: ucimlrepo\n",
      "Successfully installed ucimlrepo-0.0.7\n"
     ]
    }
   ],
   "source": [
    "# Install new package! \n",
    "# !pip install ucimlrepo"
   ]
  },
  {
   "cell_type": "markdown",
   "id": "6eb02346",
   "metadata": {},
   "source": [
    "# Processing OLS"
   ]
  },
  {
   "cell_type": "markdown",
   "id": "160e3202",
   "metadata": {},
   "source": [
    "In this first section, we will construct a linear model of to predict the household prices of California from the 1990s."
   ]
  },
  {
   "cell_type": "code",
   "execution_count": 11,
   "id": "da7fb158",
   "metadata": {},
   "outputs": [],
   "source": [
    "california = fetch_california_housing()\n",
    "\n",
    "df = pd.DataFrame(california.data, columns=california.feature_names)\n",
    "\n",
    "df['MedHouseVal'] = california.target"
   ]
  },
  {
   "cell_type": "code",
   "execution_count": 12,
   "id": "29a83f05",
   "metadata": {},
   "outputs": [],
   "source": [
    "# Define the independent variables\n",
    "X = df[[\"MedInc\", \"HouseAge\", \"AveRooms\", \"AveBedrms\", \"Population\", \"AveOccup\"]]\n",
    "\n",
    "# Define the dependent variable \n",
    "y = df['MedHouseVal']\n",
    "\n",
    "# Add a constant (intercept)\n",
    "X = sm.add_constant(X)"
   ]
  },
  {
   "cell_type": "code",
   "execution_count": 17,
   "id": "bfc1074e-88d2-4956-96bb-2710f291876b",
   "metadata": {},
   "outputs": [
    {
     "data": {
      "text/html": [
       "<div>\n",
       "<style scoped>\n",
       "    .dataframe tbody tr th:only-of-type {\n",
       "        vertical-align: middle;\n",
       "    }\n",
       "\n",
       "    .dataframe tbody tr th {\n",
       "        vertical-align: top;\n",
       "    }\n",
       "\n",
       "    .dataframe thead th {\n",
       "        text-align: right;\n",
       "    }\n",
       "</style>\n",
       "<table border=\"1\" class=\"dataframe\">\n",
       "  <thead>\n",
       "    <tr style=\"text-align: right;\">\n",
       "      <th></th>\n",
       "      <th>const</th>\n",
       "      <th>MedInc</th>\n",
       "      <th>HouseAge</th>\n",
       "      <th>AveRooms</th>\n",
       "      <th>AveBedrms</th>\n",
       "      <th>Population</th>\n",
       "      <th>AveOccup</th>\n",
       "    </tr>\n",
       "  </thead>\n",
       "  <tbody>\n",
       "    <tr>\n",
       "      <th>0</th>\n",
       "      <td>1.0</td>\n",
       "      <td>8.3252</td>\n",
       "      <td>41.0</td>\n",
       "      <td>6.984127</td>\n",
       "      <td>1.023810</td>\n",
       "      <td>322.0</td>\n",
       "      <td>2.555556</td>\n",
       "    </tr>\n",
       "    <tr>\n",
       "      <th>1</th>\n",
       "      <td>1.0</td>\n",
       "      <td>8.3014</td>\n",
       "      <td>21.0</td>\n",
       "      <td>6.238137</td>\n",
       "      <td>0.971880</td>\n",
       "      <td>2401.0</td>\n",
       "      <td>2.109842</td>\n",
       "    </tr>\n",
       "    <tr>\n",
       "      <th>2</th>\n",
       "      <td>1.0</td>\n",
       "      <td>7.2574</td>\n",
       "      <td>52.0</td>\n",
       "      <td>8.288136</td>\n",
       "      <td>1.073446</td>\n",
       "      <td>496.0</td>\n",
       "      <td>2.802260</td>\n",
       "    </tr>\n",
       "    <tr>\n",
       "      <th>3</th>\n",
       "      <td>1.0</td>\n",
       "      <td>5.6431</td>\n",
       "      <td>52.0</td>\n",
       "      <td>5.817352</td>\n",
       "      <td>1.073059</td>\n",
       "      <td>558.0</td>\n",
       "      <td>2.547945</td>\n",
       "    </tr>\n",
       "    <tr>\n",
       "      <th>4</th>\n",
       "      <td>1.0</td>\n",
       "      <td>3.8462</td>\n",
       "      <td>52.0</td>\n",
       "      <td>6.281853</td>\n",
       "      <td>1.081081</td>\n",
       "      <td>565.0</td>\n",
       "      <td>2.181467</td>\n",
       "    </tr>\n",
       "    <tr>\n",
       "      <th>...</th>\n",
       "      <td>...</td>\n",
       "      <td>...</td>\n",
       "      <td>...</td>\n",
       "      <td>...</td>\n",
       "      <td>...</td>\n",
       "      <td>...</td>\n",
       "      <td>...</td>\n",
       "    </tr>\n",
       "    <tr>\n",
       "      <th>20635</th>\n",
       "      <td>1.0</td>\n",
       "      <td>1.5603</td>\n",
       "      <td>25.0</td>\n",
       "      <td>5.045455</td>\n",
       "      <td>1.133333</td>\n",
       "      <td>845.0</td>\n",
       "      <td>2.560606</td>\n",
       "    </tr>\n",
       "    <tr>\n",
       "      <th>20636</th>\n",
       "      <td>1.0</td>\n",
       "      <td>2.5568</td>\n",
       "      <td>18.0</td>\n",
       "      <td>6.114035</td>\n",
       "      <td>1.315789</td>\n",
       "      <td>356.0</td>\n",
       "      <td>3.122807</td>\n",
       "    </tr>\n",
       "    <tr>\n",
       "      <th>20637</th>\n",
       "      <td>1.0</td>\n",
       "      <td>1.7000</td>\n",
       "      <td>17.0</td>\n",
       "      <td>5.205543</td>\n",
       "      <td>1.120092</td>\n",
       "      <td>1007.0</td>\n",
       "      <td>2.325635</td>\n",
       "    </tr>\n",
       "    <tr>\n",
       "      <th>20638</th>\n",
       "      <td>1.0</td>\n",
       "      <td>1.8672</td>\n",
       "      <td>18.0</td>\n",
       "      <td>5.329513</td>\n",
       "      <td>1.171920</td>\n",
       "      <td>741.0</td>\n",
       "      <td>2.123209</td>\n",
       "    </tr>\n",
       "    <tr>\n",
       "      <th>20639</th>\n",
       "      <td>1.0</td>\n",
       "      <td>2.3886</td>\n",
       "      <td>16.0</td>\n",
       "      <td>5.254717</td>\n",
       "      <td>1.162264</td>\n",
       "      <td>1387.0</td>\n",
       "      <td>2.616981</td>\n",
       "    </tr>\n",
       "  </tbody>\n",
       "</table>\n",
       "<p>20640 rows × 7 columns</p>\n",
       "</div>"
      ],
      "text/plain": [
       "       const  MedInc  HouseAge  AveRooms  AveBedrms  Population  AveOccup\n",
       "0        1.0  8.3252      41.0  6.984127   1.023810       322.0  2.555556\n",
       "1        1.0  8.3014      21.0  6.238137   0.971880      2401.0  2.109842\n",
       "2        1.0  7.2574      52.0  8.288136   1.073446       496.0  2.802260\n",
       "3        1.0  5.6431      52.0  5.817352   1.073059       558.0  2.547945\n",
       "4        1.0  3.8462      52.0  6.281853   1.081081       565.0  2.181467\n",
       "...      ...     ...       ...       ...        ...         ...       ...\n",
       "20635    1.0  1.5603      25.0  5.045455   1.133333       845.0  2.560606\n",
       "20636    1.0  2.5568      18.0  6.114035   1.315789       356.0  3.122807\n",
       "20637    1.0  1.7000      17.0  5.205543   1.120092      1007.0  2.325635\n",
       "20638    1.0  1.8672      18.0  5.329513   1.171920       741.0  2.123209\n",
       "20639    1.0  2.3886      16.0  5.254717   1.162264      1387.0  2.616981\n",
       "\n",
       "[20640 rows x 7 columns]"
      ]
     },
     "execution_count": 17,
     "metadata": {},
     "output_type": "execute_result"
    }
   ],
   "source": [
    "X"
   ]
  },
  {
   "cell_type": "code",
   "execution_count": 18,
   "id": "bb463e9f",
   "metadata": {},
   "outputs": [],
   "source": [
    "# Fit the OLS regression model\n",
    "ols_model = sm.OLS(y, X)\n",
    "ols_results = ols_model.fit()"
   ]
  },
  {
   "cell_type": "code",
   "execution_count": 19,
   "id": "ad3baa75",
   "metadata": {},
   "outputs": [
    {
     "name": "stdout",
     "output_type": "stream",
     "text": [
      "                            OLS Regression Results                            \n",
      "==============================================================================\n",
      "Dep. Variable:            MedHouseVal   R-squared:                       0.540\n",
      "Model:                            OLS   Adj. R-squared:                  0.540\n",
      "Method:                 Least Squares   F-statistic:                     4032.\n",
      "Date:                Thu, 18 Sep 2025   Prob (F-statistic):               0.00\n",
      "Time:                        10:58:14   Log-Likelihood:                -24235.\n",
      "No. Observations:               20640   AIC:                         4.848e+04\n",
      "Df Residuals:                   20633   BIC:                         4.854e+04\n",
      "Df Model:                           6                                         \n",
      "Covariance Type:            nonrobust                                         \n",
      "==============================================================================\n",
      "                 coef    std err          t      P>|t|      [0.025      0.975]\n",
      "------------------------------------------------------------------------------\n",
      "const         -0.4391      0.028    -15.918      0.000      -0.493      -0.385\n",
      "MedInc         0.5369      0.004    130.183      0.000       0.529       0.545\n",
      "HouseAge       0.0165      0.000     35.571      0.000       0.016       0.017\n",
      "AveRooms      -0.2117      0.006    -35.237      0.000      -0.224      -0.200\n",
      "AveBedrms      0.9937      0.030     33.669      0.000       0.936       1.052\n",
      "Population  2.211e-05    5.1e-06      4.337      0.000    1.21e-05    3.21e-05\n",
      "AveOccup      -0.0049      0.001     -9.262      0.000      -0.006      -0.004\n",
      "==============================================================================\n",
      "Omnibus:                     4480.630   Durbin-Watson:                   0.940\n",
      "Prob(Omnibus):                  0.000   Jarque-Bera (JB):            16778.766\n",
      "Skew:                           1.053   Prob(JB):                         0.00\n",
      "Kurtosis:                       6.883   Cond. No.                     1.16e+04\n",
      "==============================================================================\n",
      "\n",
      "Notes:\n",
      "[1] Standard Errors assume that the covariance matrix of the errors is correctly specified.\n",
      "[2] The condition number is large, 1.16e+04. This might indicate that there are\n",
      "strong multicollinearity or other numerical problems.\n"
     ]
    }
   ],
   "source": [
    "# Display the summary of the results\n",
    "print(ols_results.summary())"
   ]
  },
  {
   "cell_type": "code",
   "execution_count": null,
   "id": "a2fa34d4-e089-4160-bd94-1946d4b88fcb",
   "metadata": {},
   "outputs": [],
   "source": [
    "# Iterate on data exploration"
   ]
  },
  {
   "cell_type": "code",
   "execution_count": 20,
   "id": "6f5a8409",
   "metadata": {},
   "outputs": [],
   "source": [
    "## This code block simply processes the dataframe for you\n",
    "R = results = ols_results.summary().tables[1].data\n",
    "R = pd.DataFrame(R)\n",
    "R.columns = R.iloc[0]\n",
    "R = R.iloc[1:]\n",
    "R[R.columns[1:]] = R[R.columns[1:]].astype(float)\n",
    "R.columns = [\"vari\", \"coef\", \"std_err\", \"t\", \"p_val\", \"low_b\", \"up_b\" ]\n",
    "\n",
    "R = R.sort_values(\"coef\", ascending = True)\n",
    "R = R.reset_index(drop=True)\n",
    "\n",
    "p = 0.1\n",
    "R[\"alpha\"] = (R.p_val < 0.05 ) * (1-p) + p"
   ]
  },
  {
   "cell_type": "code",
   "execution_count": 21,
   "id": "b88eb8a3-547a-4124-9f2a-219fa415d3ad",
   "metadata": {},
   "outputs": [
    {
     "data": {
      "text/html": [
       "<div>\n",
       "<style scoped>\n",
       "    .dataframe tbody tr th:only-of-type {\n",
       "        vertical-align: middle;\n",
       "    }\n",
       "\n",
       "    .dataframe tbody tr th {\n",
       "        vertical-align: top;\n",
       "    }\n",
       "\n",
       "    .dataframe thead th {\n",
       "        text-align: right;\n",
       "    }\n",
       "</style>\n",
       "<table border=\"1\" class=\"dataframe\">\n",
       "  <thead>\n",
       "    <tr style=\"text-align: right;\">\n",
       "      <th></th>\n",
       "      <th>vari</th>\n",
       "      <th>coef</th>\n",
       "      <th>std_err</th>\n",
       "      <th>t</th>\n",
       "      <th>p_val</th>\n",
       "      <th>low_b</th>\n",
       "      <th>up_b</th>\n",
       "      <th>alpha</th>\n",
       "    </tr>\n",
       "  </thead>\n",
       "  <tbody>\n",
       "    <tr>\n",
       "      <th>0</th>\n",
       "      <td>const</td>\n",
       "      <td>-0.439100</td>\n",
       "      <td>0.028000</td>\n",
       "      <td>-15.918</td>\n",
       "      <td>0.0</td>\n",
       "      <td>-0.493000</td>\n",
       "      <td>-0.385000</td>\n",
       "      <td>1.0</td>\n",
       "    </tr>\n",
       "    <tr>\n",
       "      <th>1</th>\n",
       "      <td>AveRooms</td>\n",
       "      <td>-0.211700</td>\n",
       "      <td>0.006000</td>\n",
       "      <td>-35.237</td>\n",
       "      <td>0.0</td>\n",
       "      <td>-0.224000</td>\n",
       "      <td>-0.200000</td>\n",
       "      <td>1.0</td>\n",
       "    </tr>\n",
       "    <tr>\n",
       "      <th>2</th>\n",
       "      <td>AveOccup</td>\n",
       "      <td>-0.004900</td>\n",
       "      <td>0.001000</td>\n",
       "      <td>-9.262</td>\n",
       "      <td>0.0</td>\n",
       "      <td>-0.006000</td>\n",
       "      <td>-0.004000</td>\n",
       "      <td>1.0</td>\n",
       "    </tr>\n",
       "    <tr>\n",
       "      <th>3</th>\n",
       "      <td>Population</td>\n",
       "      <td>0.000022</td>\n",
       "      <td>0.000005</td>\n",
       "      <td>4.337</td>\n",
       "      <td>0.0</td>\n",
       "      <td>0.000012</td>\n",
       "      <td>0.000032</td>\n",
       "      <td>1.0</td>\n",
       "    </tr>\n",
       "    <tr>\n",
       "      <th>4</th>\n",
       "      <td>HouseAge</td>\n",
       "      <td>0.016500</td>\n",
       "      <td>0.000000</td>\n",
       "      <td>35.571</td>\n",
       "      <td>0.0</td>\n",
       "      <td>0.016000</td>\n",
       "      <td>0.017000</td>\n",
       "      <td>1.0</td>\n",
       "    </tr>\n",
       "    <tr>\n",
       "      <th>5</th>\n",
       "      <td>MedInc</td>\n",
       "      <td>0.536900</td>\n",
       "      <td>0.004000</td>\n",
       "      <td>130.183</td>\n",
       "      <td>0.0</td>\n",
       "      <td>0.529000</td>\n",
       "      <td>0.545000</td>\n",
       "      <td>1.0</td>\n",
       "    </tr>\n",
       "    <tr>\n",
       "      <th>6</th>\n",
       "      <td>AveBedrms</td>\n",
       "      <td>0.993700</td>\n",
       "      <td>0.030000</td>\n",
       "      <td>33.669</td>\n",
       "      <td>0.0</td>\n",
       "      <td>0.936000</td>\n",
       "      <td>1.052000</td>\n",
       "      <td>1.0</td>\n",
       "    </tr>\n",
       "  </tbody>\n",
       "</table>\n",
       "</div>"
      ],
      "text/plain": [
       "         vari      coef   std_err        t  p_val     low_b      up_b  alpha\n",
       "0       const -0.439100  0.028000  -15.918    0.0 -0.493000 -0.385000    1.0\n",
       "1    AveRooms -0.211700  0.006000  -35.237    0.0 -0.224000 -0.200000    1.0\n",
       "2    AveOccup -0.004900  0.001000   -9.262    0.0 -0.006000 -0.004000    1.0\n",
       "3  Population  0.000022  0.000005    4.337    0.0  0.000012  0.000032    1.0\n",
       "4    HouseAge  0.016500  0.000000   35.571    0.0  0.016000  0.017000    1.0\n",
       "5      MedInc  0.536900  0.004000  130.183    0.0  0.529000  0.545000    1.0\n",
       "6   AveBedrms  0.993700  0.030000   33.669    0.0  0.936000  1.052000    1.0"
      ]
     },
     "execution_count": 21,
     "metadata": {},
     "output_type": "execute_result"
    }
   ],
   "source": [
    "R"
   ]
  },
  {
   "cell_type": "code",
   "execution_count": 24,
   "id": "714a0dcb-4df9-4e31-a32e-c40e88f2b204",
   "metadata": {},
   "outputs": [
    {
     "data": {
      "text/plain": [
       "'boop!'"
      ]
     },
     "execution_count": 24,
     "metadata": {},
     "output_type": "execute_result"
    },
    {
     "data": {
      "image/png": "[encoded data removed]",
      "text/plain": [
       "<Figure size 640x480 with 1 Axes>"
      ]
     },
     "metadata": {},
     "output_type": "display_data"
    }
   ],
   "source": [
    "plt.hlines(R.index, R.low_b, R.up_b, alpha = R.alpha)\n",
    "plt.scatter(R.coef, R.index, alpha = R.alpha)\n",
    "\n",
    "plt.vlines(0,0-1,len(R), linestyle=\"--\", color = \"black\")\n",
    "\n",
    "plt.yticks(R.index,R.vari, fontsize=16)\n",
    "\n",
    "\"boop!\""
   ]
  },
  {
   "cell_type": "code",
   "execution_count": null,
   "id": "ab69f055-b1e1-4585-8126-49a7b4eb2590",
   "metadata": {},
   "outputs": [],
   "source": []
  },
  {
   "cell_type": "markdown",
   "id": "19466b9d",
   "metadata": {},
   "source": [
    "# Logistic Regression"
   ]
  },
  {
   "cell_type": "markdown",
   "id": "6e7a651a",
   "metadata": {},
   "source": [
    "Your turn: Using the Titanic dataset and the variables below, created a logistic regression model for whether individuals survived or not.\n",
    "* IVs: 'pclass', 'age', \"sibsp\", \"fare\", \"adult_male\"\n",
    "* DV: \"survived\""
   ]
  },
  {
   "cell_type": "code",
   "execution_count": 198,
   "id": "024eb181",
   "metadata": {},
   "outputs": [],
   "source": [
    "# Load the Titanic dataset\n",
    "df = sns.load_dataset('titanic')"
   ]
  },
  {
   "cell_type": "code",
   "execution_count": 199,
   "id": "f168322c-3df1-4bc8-83e9-860171a2d6ff",
   "metadata": {},
   "outputs": [
    {
     "data": {
      "text/html": [
       "<div>\n",
       "<style scoped>\n",
       "    .dataframe tbody tr th:only-of-type {\n",
       "        vertical-align: middle;\n",
       "    }\n",
       "\n",
       "    .dataframe tbody tr th {\n",
       "        vertical-align: top;\n",
       "    }\n",
       "\n",
       "    .dataframe thead th {\n",
       "        text-align: right;\n",
       "    }\n",
       "</style>\n",
       "<table border=\"1\" class=\"dataframe\">\n",
       "  <thead>\n",
       "    <tr style=\"text-align: right;\">\n",
       "      <th></th>\n",
       "      <th>survived</th>\n",
       "      <th>pclass</th>\n",
       "      <th>sex</th>\n",
       "      <th>age</th>\n",
       "      <th>sibsp</th>\n",
       "      <th>parch</th>\n",
       "      <th>fare</th>\n",
       "      <th>embarked</th>\n",
       "      <th>class</th>\n",
       "      <th>who</th>\n",
       "      <th>adult_male</th>\n",
       "      <th>deck</th>\n",
       "      <th>embark_town</th>\n",
       "      <th>alive</th>\n",
       "      <th>alone</th>\n",
       "    </tr>\n",
       "  </thead>\n",
       "  <tbody>\n",
       "    <tr>\n",
       "      <th>0</th>\n",
       "      <td>0</td>\n",
       "      <td>3</td>\n",
       "      <td>male</td>\n",
       "      <td>22.0</td>\n",
       "      <td>1</td>\n",
       "      <td>0</td>\n",
       "      <td>7.2500</td>\n",
       "      <td>S</td>\n",
       "      <td>Third</td>\n",
       "      <td>man</td>\n",
       "      <td>True</td>\n",
       "      <td>NaN</td>\n",
       "      <td>Southampton</td>\n",
       "      <td>no</td>\n",
       "      <td>False</td>\n",
       "    </tr>\n",
       "    <tr>\n",
       "      <th>1</th>\n",
       "      <td>1</td>\n",
       "      <td>1</td>\n",
       "      <td>female</td>\n",
       "      <td>38.0</td>\n",
       "      <td>1</td>\n",
       "      <td>0</td>\n",
       "      <td>71.2833</td>\n",
       "      <td>C</td>\n",
       "      <td>First</td>\n",
       "      <td>woman</td>\n",
       "      <td>False</td>\n",
       "      <td>C</td>\n",
       "      <td>Cherbourg</td>\n",
       "      <td>yes</td>\n",
       "      <td>False</td>\n",
       "    </tr>\n",
       "    <tr>\n",
       "      <th>2</th>\n",
       "      <td>1</td>\n",
       "      <td>3</td>\n",
       "      <td>female</td>\n",
       "      <td>26.0</td>\n",
       "      <td>0</td>\n",
       "      <td>0</td>\n",
       "      <td>7.9250</td>\n",
       "      <td>S</td>\n",
       "      <td>Third</td>\n",
       "      <td>woman</td>\n",
       "      <td>False</td>\n",
       "      <td>NaN</td>\n",
       "      <td>Southampton</td>\n",
       "      <td>yes</td>\n",
       "      <td>True</td>\n",
       "    </tr>\n",
       "    <tr>\n",
       "      <th>3</th>\n",
       "      <td>1</td>\n",
       "      <td>1</td>\n",
       "      <td>female</td>\n",
       "      <td>35.0</td>\n",
       "      <td>1</td>\n",
       "      <td>0</td>\n",
       "      <td>53.1000</td>\n",
       "      <td>S</td>\n",
       "      <td>First</td>\n",
       "      <td>woman</td>\n",
       "      <td>False</td>\n",
       "      <td>C</td>\n",
       "      <td>Southampton</td>\n",
       "      <td>yes</td>\n",
       "      <td>False</td>\n",
       "    </tr>\n",
       "    <tr>\n",
       "      <th>4</th>\n",
       "      <td>0</td>\n",
       "      <td>3</td>\n",
       "      <td>male</td>\n",
       "      <td>35.0</td>\n",
       "      <td>0</td>\n",
       "      <td>0</td>\n",
       "      <td>8.0500</td>\n",
       "      <td>S</td>\n",
       "      <td>Third</td>\n",
       "      <td>man</td>\n",
       "      <td>True</td>\n",
       "      <td>NaN</td>\n",
       "      <td>Southampton</td>\n",
       "      <td>no</td>\n",
       "      <td>True</td>\n",
       "    </tr>\n",
       "  </tbody>\n",
       "</table>\n",
       "</div>"
      ],
      "text/plain": [
       "   survived  pclass     sex   age  sibsp  parch     fare embarked  class  \\\n",
       "0         0       3    male  22.0      1      0   7.2500        S  Third   \n",
       "1         1       1  female  38.0      1      0  71.2833        C  First   \n",
       "2         1       3  female  26.0      0      0   7.9250        S  Third   \n",
       "3         1       1  female  35.0      1      0  53.1000        S  First   \n",
       "4         0       3    male  35.0      0      0   8.0500        S  Third   \n",
       "\n",
       "     who  adult_male deck  embark_town alive  alone  \n",
       "0    man        True  NaN  Southampton    no  False  \n",
       "1  woman       False    C    Cherbourg   yes  False  \n",
       "2  woman       False  NaN  Southampton   yes   True  \n",
       "3  woman       False    C  Southampton   yes  False  \n",
       "4    man        True  NaN  Southampton    no   True  "
      ]
     },
     "execution_count": 199,
     "metadata": {},
     "output_type": "execute_result"
    }
   ],
   "source": [
    "df.head() "
   ]
  },
  {
   "cell_type": "code",
   "execution_count": 200,
   "id": "24f6c158-792f-461c-95ee-16fab92dff38",
   "metadata": {},
   "outputs": [],
   "source": [
    "# Your code here\n",
    "\n",
    "# Define the independent variables\n",
    "# multiclass \n",
    "\n",
    "# Clean the independent variables \n",
    "df[\"adult_male_binary\"] = df[\"adult_male\"].astype(int)\n",
    "X = df[[\"pclass\", \"age\", \"sibsp\", \"fare\", \"adult_male_binary\"]]\n",
    "\n",
    "# Define the dependent variable \n",
    "y = df['survived']\n",
    "# y = df.survived.values # use a numpy array for ease of use!! \n",
    "\n",
    "# equivalent to above \n",
    "# import numpy as np\n",
    "# y = np.asarray(df['survived'])\n",
    "\n",
    "# Add a constant (intercept)\n",
    "X = sm.add_constant(X)\n",
    "\n",
    "data_new = pd.concat([X, y], axis=1).dropna()\n",
    "\n",
    "X = data_new[[\"pclass\", \"age\", \"sibsp\", \"fare\", \"adult_male_binary\"]]\n",
    "y = data_new['survived']"
   ]
  },
  {
   "cell_type": "code",
   "execution_count": 201,
   "id": "0271b37e-7a48-420e-8f09-34be6890e13a",
   "metadata": {},
   "outputs": [
    {
     "data": {
      "text/html": [
       "<div>\n",
       "<style scoped>\n",
       "    .dataframe tbody tr th:only-of-type {\n",
       "        vertical-align: middle;\n",
       "    }\n",
       "\n",
       "    .dataframe tbody tr th {\n",
       "        vertical-align: top;\n",
       "    }\n",
       "\n",
       "    .dataframe thead th {\n",
       "        text-align: right;\n",
       "    }\n",
       "</style>\n",
       "<table border=\"1\" class=\"dataframe\">\n",
       "  <thead>\n",
       "    <tr style=\"text-align: right;\">\n",
       "      <th></th>\n",
       "      <th>pclass</th>\n",
       "      <th>age</th>\n",
       "      <th>sibsp</th>\n",
       "      <th>fare</th>\n",
       "      <th>adult_male_binary</th>\n",
       "    </tr>\n",
       "  </thead>\n",
       "  <tbody>\n",
       "    <tr>\n",
       "      <th>0</th>\n",
       "      <td>3</td>\n",
       "      <td>22.0</td>\n",
       "      <td>1</td>\n",
       "      <td>7.2500</td>\n",
       "      <td>1</td>\n",
       "    </tr>\n",
       "    <tr>\n",
       "      <th>1</th>\n",
       "      <td>1</td>\n",
       "      <td>38.0</td>\n",
       "      <td>1</td>\n",
       "      <td>71.2833</td>\n",
       "      <td>0</td>\n",
       "    </tr>\n",
       "    <tr>\n",
       "      <th>2</th>\n",
       "      <td>3</td>\n",
       "      <td>26.0</td>\n",
       "      <td>0</td>\n",
       "      <td>7.9250</td>\n",
       "      <td>0</td>\n",
       "    </tr>\n",
       "    <tr>\n",
       "      <th>3</th>\n",
       "      <td>1</td>\n",
       "      <td>35.0</td>\n",
       "      <td>1</td>\n",
       "      <td>53.1000</td>\n",
       "      <td>0</td>\n",
       "    </tr>\n",
       "    <tr>\n",
       "      <th>4</th>\n",
       "      <td>3</td>\n",
       "      <td>35.0</td>\n",
       "      <td>0</td>\n",
       "      <td>8.0500</td>\n",
       "      <td>1</td>\n",
       "    </tr>\n",
       "    <tr>\n",
       "      <th>...</th>\n",
       "      <td>...</td>\n",
       "      <td>...</td>\n",
       "      <td>...</td>\n",
       "      <td>...</td>\n",
       "      <td>...</td>\n",
       "    </tr>\n",
       "    <tr>\n",
       "      <th>885</th>\n",
       "      <td>3</td>\n",
       "      <td>39.0</td>\n",
       "      <td>0</td>\n",
       "      <td>29.1250</td>\n",
       "      <td>0</td>\n",
       "    </tr>\n",
       "    <tr>\n",
       "      <th>886</th>\n",
       "      <td>2</td>\n",
       "      <td>27.0</td>\n",
       "      <td>0</td>\n",
       "      <td>13.0000</td>\n",
       "      <td>1</td>\n",
       "    </tr>\n",
       "    <tr>\n",
       "      <th>887</th>\n",
       "      <td>1</td>\n",
       "      <td>19.0</td>\n",
       "      <td>0</td>\n",
       "      <td>30.0000</td>\n",
       "      <td>0</td>\n",
       "    </tr>\n",
       "    <tr>\n",
       "      <th>889</th>\n",
       "      <td>1</td>\n",
       "      <td>26.0</td>\n",
       "      <td>0</td>\n",
       "      <td>30.0000</td>\n",
       "      <td>1</td>\n",
       "    </tr>\n",
       "    <tr>\n",
       "      <th>890</th>\n",
       "      <td>3</td>\n",
       "      <td>32.0</td>\n",
       "      <td>0</td>\n",
       "      <td>7.7500</td>\n",
       "      <td>1</td>\n",
       "    </tr>\n",
       "  </tbody>\n",
       "</table>\n",
       "<p>714 rows × 5 columns</p>\n",
       "</div>"
      ],
      "text/plain": [
       "     pclass   age  sibsp     fare  adult_male_binary\n",
       "0         3  22.0      1   7.2500                  1\n",
       "1         1  38.0      1  71.2833                  0\n",
       "2         3  26.0      0   7.9250                  0\n",
       "3         1  35.0      1  53.1000                  0\n",
       "4         3  35.0      0   8.0500                  1\n",
       "..      ...   ...    ...      ...                ...\n",
       "885       3  39.0      0  29.1250                  0\n",
       "886       2  27.0      0  13.0000                  1\n",
       "887       1  19.0      0  30.0000                  0\n",
       "889       1  26.0      0  30.0000                  1\n",
       "890       3  32.0      0   7.7500                  1\n",
       "\n",
       "[714 rows x 5 columns]"
      ]
     },
     "execution_count": 201,
     "metadata": {},
     "output_type": "execute_result"
    }
   ],
   "source": [
    "X"
   ]
  },
  {
   "cell_type": "code",
   "execution_count": 202,
   "id": "750b2a82-f0d3-4bfc-99d8-10f4e6443ab5",
   "metadata": {},
   "outputs": [
    {
     "data": {
      "text/plain": [
       "0      0\n",
       "1      1\n",
       "2      1\n",
       "3      1\n",
       "4      0\n",
       "      ..\n",
       "885    0\n",
       "886    0\n",
       "887    1\n",
       "889    1\n",
       "890    0\n",
       "Name: survived, Length: 714, dtype: int64"
      ]
     },
     "execution_count": 202,
     "metadata": {},
     "output_type": "execute_result"
    }
   ],
   "source": [
    "y"
   ]
  },
  {
   "cell_type": "code",
   "execution_count": 118,
   "id": "b4d8a03a-2397-43a4-9111-9c30d9c1b34d",
   "metadata": {},
   "outputs": [],
   "source": [
    "#y[:5]\n",
    "# X = np.asarray(X)\n",
    "# y = np.asarray(y)"
   ]
  },
  {
   "cell_type": "code",
   "execution_count": 203,
   "id": "fffbfe45-6fe3-43b3-a43c-03a66374494c",
   "metadata": {},
   "outputs": [
    {
     "name": "stdout",
     "output_type": "stream",
     "text": [
      "Optimization terminated successfully.\n",
      "         Current function value: 0.476328\n",
      "         Iterations 6\n"
     ]
    }
   ],
   "source": [
    "# Fit the logit regression model\n",
    "logit_model = sm.Logit(y, X)\n",
    "logit_results = logit_model.fit()"
   ]
  },
  {
   "cell_type": "code",
   "execution_count": null,
   "id": "686f845f",
   "metadata": {},
   "outputs": [],
   "source": [
    "# Consider functionalizing the codeblock with R (results)"
   ]
  },
  {
   "cell_type": "code",
   "execution_count": 204,
   "id": "d26f635e",
   "metadata": {},
   "outputs": [
    {
     "name": "stdout",
     "output_type": "stream",
     "text": [
      "                           Logit Regression Results                           \n",
      "==============================================================================\n",
      "Dep. Variable:               survived   No. Observations:                  714\n",
      "Model:                          Logit   Df Residuals:                      709\n",
      "Method:                           MLE   Df Model:                            4\n",
      "Date:                Thu, 18 Sep 2025   Pseudo R-squ.:                  0.2948\n",
      "Time:                        11:48:50   Log-Likelihood:                -340.10\n",
      "converged:                       True   LL-Null:                       -482.26\n",
      "Covariance Type:            nonrobust   LLR p-value:                 2.611e-60\n",
      "=====================================================================================\n",
      "                        coef    std err          z      P>|z|      [0.025      0.975]\n",
      "-------------------------------------------------------------------------------------\n",
      "pclass                0.0429      0.072      0.595      0.552      -0.099       0.184\n",
      "age                   0.0176      0.006      2.937      0.003       0.006       0.029\n",
      "sibsp                -0.4715      0.112     -4.194      0.000      -0.692      -0.251\n",
      "fare                  0.0175      0.003      5.530      0.000       0.011       0.024\n",
      "adult_male_binary    -2.6556      0.216    -12.301      0.000      -3.079      -2.232\n",
      "=====================================================================================\n"
     ]
    }
   ],
   "source": [
    "# Display the summary of the results\n",
    "print(logit_results.summary())"
   ]
  },
  {
   "cell_type": "code",
   "execution_count": 205,
   "id": "12ec1616-cf5a-4d24-9354-24966c5957d0",
   "metadata": {},
   "outputs": [],
   "source": [
    "## This code block simply processes the dataframe for you\n",
    "R = results = logit_results.summary().tables[1].data\n",
    "R = pd.DataFrame(R)\n",
    "R.columns = R.iloc[0]\n",
    "R = R.iloc[1:]\n",
    "R[R.columns[1:]] = R[R.columns[1:]].astype(float)\n",
    "R.columns = [\"vari\", \"coef\", \"std_err\", \"t\", \"p_val\", \"low_b\", \"up_b\" ]\n",
    "\n",
    "R = R.sort_values(\"coef\", ascending = True)\n",
    "R = R.reset_index(drop=True)\n",
    "\n",
    "p = 0.1\n",
    "R[\"alpha\"] = (R.p_val < 0.05 ) * (1-p) + p"
   ]
  },
  {
   "cell_type": "code",
   "execution_count": 206,
   "id": "5234f310-19ad-4d06-ae6d-d60b67333492",
   "metadata": {},
   "outputs": [
    {
     "data": {
      "text/plain": [
       "'beep!'"
      ]
     },
     "execution_count": 206,
     "metadata": {},
     "output_type": "execute_result"
    },
    {
     "data": {
      "image/png": "[encoded data removed]",
      "text/plain": [
       "<Figure size 640x480 with 1 Axes>"
      ]
     },
     "metadata": {},
     "output_type": "display_data"
    }
   ],
   "source": [
    "plt.hlines(R.index, R.low_b, R.up_b, alpha = R.alpha)\n",
    "plt.scatter(R.coef, R.index, alpha = R.alpha)\n",
    "\n",
    "plt.vlines(0,0-1,len(R), linestyle=\"--\", color = \"black\")\n",
    "\n",
    "plt.yticks(R.index,R.vari, fontsize=16)\n",
    "\n",
    "\"beep!\"\n",
    "\n",
    "# this is incorrect lol "
   ]
  },
  {
   "cell_type": "code",
   "execution_count": 144,
   "id": "ac558770-93b6-47a1-94f1-76d898fd76b6",
   "metadata": {},
   "outputs": [
    {
     "data": {
      "text/plain": [
       "0      22.0\n",
       "1      38.0\n",
       "2      26.0\n",
       "3      35.0\n",
       "4      35.0\n",
       "       ... \n",
       "886    27.0\n",
       "887    19.0\n",
       "888     NaN\n",
       "889    26.0\n",
       "890    32.0\n",
       "Name: age, Length: 891, dtype: float64"
      ]
     },
     "execution_count": 144,
     "metadata": {},
     "output_type": "execute_result"
    }
   ],
   "source": [
    "# start from beginnig \n",
    "df.age # float64 "
   ]
  },
  {
   "cell_type": "markdown",
   "id": "4b56b08e-de54-4bec-aa24-55185ebd02f0",
   "metadata": {},
   "source": [
    "## Attempt AGAIN "
   ]
  },
  {
   "cell_type": "code",
   "execution_count": 222,
   "id": "1e5c45f5-f24b-4bd2-92c5-d685d1902ce7",
   "metadata": {},
   "outputs": [
    {
     "name": "stdout",
     "output_type": "stream",
     "text": [
      "Optimization terminated successfully.\n",
      "         Current function value: 0.423433\n",
      "         Iterations 6\n"
     ]
    },
    {
     "data": {
      "text/plain": [
       "'start!'"
      ]
     },
     "execution_count": 222,
     "metadata": {},
     "output_type": "execute_result"
    },
    {
     "data": {
      "image/png": "[encoded data removed]",
      "text/plain": [
       "<Figure size 640x480 with 1 Axes>"
      ]
     },
     "metadata": {},
     "output_type": "display_data"
    }
   ],
   "source": [
    "# Load the Titanic dataset\n",
    "df = sns.load_dataset('titanic')\n",
    "\n",
    "# Read dataset \n",
    "df.head() \n",
    "\n",
    "# Clean \n",
    "#df = df.dropna()\n",
    "df.head()\n",
    "\n",
    "# Clean the independent variables, converting multiclass \n",
    "df[\"adult_male_binary\"] = df[\"adult_male\"].astype(float)\n",
    "\n",
    "# Define the independent variables\n",
    "df[\"age\"] = df.age.fillna(df[\"age\"].median())\n",
    "X = df[[\"pclass\", \"age\", \"sibsp\", \"fare\", \"adult_male_binary\"]]\n",
    "\n",
    "# Define the dependent variable \n",
    "y = df['survived']\n",
    "# y = df.survived.values # use a numpy array for ease of use!! \n",
    "\n",
    "# Add a constant (intercept)\n",
    "X = sm.add_constant(X)\n",
    "\n",
    "# Fit the logit regression model\n",
    "logit_model = sm.Logit(y, X)\n",
    "logit_results = logit_model.fit()\n",
    "\n",
    "# Display the summary of the results\n",
    "# print(logit_results.summary())\n",
    "\n",
    "## This code block simply processes the dataframe for you - not modified \n",
    "R = results = logit_results.summary().tables[1].data\n",
    "\n",
    "# Consider functionalizing the codeblock with R (results)\n",
    "def process_dataframe(R):\n",
    "    R = pd.DataFrame(R)\n",
    "    R.columns = R.iloc[0]\n",
    "    R = R.iloc[1:]\n",
    "    R[R.columns[1:]] = R[R.columns[1:]].astype(float)\n",
    "    R.columns = [\"vari\", \"coef\", \"std_err\", \"t\", \"p_val\", \"low_b\", \"up_b\" ]\n",
    "    \n",
    "    R = R.sort_values(\"coef\", ascending = True)\n",
    "    R = R.reset_index(drop=True)\n",
    "    \n",
    "    p = 0.1\n",
    "    R[\"alpha\"] = (R.p_val < 0.05 ) * (1-p) + p\n",
    "\n",
    "    return R \n",
    "\n",
    "R = process_dataframe(R)\n",
    "\n",
    "# Visualize \n",
    "plt.hlines(R.index, R.low_b, R.up_b, alpha = R.alpha)\n",
    "plt.scatter(R.coef, R.index, alpha = R.alpha)\n",
    "\n",
    "plt.vlines(0,0-1,len(R), linestyle=\"--\", color = \"black\")\n",
    "\n",
    "plt.yticks(R.index,R.vari, fontsize=16)\n",
    "\n",
    "\"start!\""
   ]
  },
  {
   "cell_type": "markdown",
   "id": "36557648",
   "metadata": {},
   "source": [
    "## Multinomial Regression"
   ]
  },
  {
   "cell_type": "markdown",
   "id": "bb546226",
   "metadata": {},
   "source": [
    "The UCI dataset with ID 109 is the Wine Quality Dataset, which contains information about different types of wines, including several chemical properties and a quality rating. Since the quality ratings are on a scale from 0 to 10, this dataset is ideal for multinomial logistic regression, where the goal is to predict the quality of wine based on its chemical properties."
   ]
  },
  {
   "attachments": {},
   "cell_type": "markdown",
   "id": "a8f9626d",
   "metadata": {},
   "source": [
    "For this exercise, you will want to use sm.MNLogit. Then, plot the two forest plots in the same figure. (For an example, see this figure-- https://academic.oup.com/view-large/figure/447695951/pgae130f3.tif )"
   ]
  },
  {
   "cell_type": "code",
   "execution_count": 97,
   "id": "32ad5537",
   "metadata": {},
   "outputs": [],
   "source": [
    "# fetch dataset \n",
    "wine = fetch_ucirepo(id=109) \n"
   ]
  },
  {
   "cell_type": "code",
   "execution_count": 42,
   "id": "addbae2f",
   "metadata": {},
   "outputs": [
    {
     "ename": "ValueError",
     "evalue": "2",
     "output_type": "error",
     "traceback": [
      "\u001b[0;31m---------------------------------------------------------------------------\u001b[0m",
      "\u001b[0;31mValueError\u001b[0m                                Traceback (most recent call last)",
      "Cell \u001b[0;32mIn[42], line 2\u001b[0m\n\u001b[1;32m      1\u001b[0m \u001b[38;5;66;03m# your code here\u001b[39;00m\n\u001b[0;32m----> 2\u001b[0m wine_df \u001b[38;5;241m=\u001b[39m \u001b[43mpd\u001b[49m\u001b[38;5;241;43m.\u001b[39;49m\u001b[43mDataFrame\u001b[49m\u001b[43m(\u001b[49m\u001b[43mwine\u001b[49m\u001b[43m)\u001b[49m\n",
      "File \u001b[0;32m/opt/anaconda3/envs/qss20/lib/python3.10/site-packages/pandas/core/frame.py:778\u001b[0m, in \u001b[0;36mDataFrame.__init__\u001b[0;34m(self, data, index, columns, dtype, copy)\u001b[0m\n\u001b[1;32m    772\u001b[0m     mgr \u001b[38;5;241m=\u001b[39m \u001b[38;5;28mself\u001b[39m\u001b[38;5;241m.\u001b[39m_init_mgr(\n\u001b[1;32m    773\u001b[0m         data, axes\u001b[38;5;241m=\u001b[39m{\u001b[38;5;124m\"\u001b[39m\u001b[38;5;124mindex\u001b[39m\u001b[38;5;124m\"\u001b[39m: index, \u001b[38;5;124m\"\u001b[39m\u001b[38;5;124mcolumns\u001b[39m\u001b[38;5;124m\"\u001b[39m: columns}, dtype\u001b[38;5;241m=\u001b[39mdtype, copy\u001b[38;5;241m=\u001b[39mcopy\n\u001b[1;32m    774\u001b[0m     )\n\u001b[1;32m    776\u001b[0m \u001b[38;5;28;01melif\u001b[39;00m \u001b[38;5;28misinstance\u001b[39m(data, \u001b[38;5;28mdict\u001b[39m):\n\u001b[1;32m    777\u001b[0m     \u001b[38;5;66;03m# GH#38939 de facto copy defaults to False only in non-dict cases\u001b[39;00m\n\u001b[0;32m--> 778\u001b[0m     mgr \u001b[38;5;241m=\u001b[39m \u001b[43mdict_to_mgr\u001b[49m\u001b[43m(\u001b[49m\u001b[43mdata\u001b[49m\u001b[43m,\u001b[49m\u001b[43m \u001b[49m\u001b[43mindex\u001b[49m\u001b[43m,\u001b[49m\u001b[43m \u001b[49m\u001b[43mcolumns\u001b[49m\u001b[43m,\u001b[49m\u001b[43m \u001b[49m\u001b[43mdtype\u001b[49m\u001b[38;5;241;43m=\u001b[39;49m\u001b[43mdtype\u001b[49m\u001b[43m,\u001b[49m\u001b[43m \u001b[49m\u001b[43mcopy\u001b[49m\u001b[38;5;241;43m=\u001b[39;49m\u001b[43mcopy\u001b[49m\u001b[43m,\u001b[49m\u001b[43m \u001b[49m\u001b[43mtyp\u001b[49m\u001b[38;5;241;43m=\u001b[39;49m\u001b[43mmanager\u001b[49m\u001b[43m)\u001b[49m\n\u001b[1;32m    779\u001b[0m \u001b[38;5;28;01melif\u001b[39;00m \u001b[38;5;28misinstance\u001b[39m(data, ma\u001b[38;5;241m.\u001b[39mMaskedArray):\n\u001b[1;32m    780\u001b[0m     \u001b[38;5;28;01mfrom\u001b[39;00m \u001b[38;5;21;01mnumpy\u001b[39;00m\u001b[38;5;21;01m.\u001b[39;00m\u001b[38;5;21;01mma\u001b[39;00m \u001b[38;5;28;01mimport\u001b[39;00m mrecords\n",
      "File \u001b[0;32m/opt/anaconda3/envs/qss20/lib/python3.10/site-packages/pandas/core/internals/construction.py:503\u001b[0m, in \u001b[0;36mdict_to_mgr\u001b[0;34m(data, index, columns, dtype, typ, copy)\u001b[0m\n\u001b[1;32m    499\u001b[0m     \u001b[38;5;28;01melse\u001b[39;00m:\n\u001b[1;32m    500\u001b[0m         \u001b[38;5;66;03m# dtype check to exclude e.g. range objects, scalars\u001b[39;00m\n\u001b[1;32m    501\u001b[0m         arrays \u001b[38;5;241m=\u001b[39m [x\u001b[38;5;241m.\u001b[39mcopy() \u001b[38;5;28;01mif\u001b[39;00m \u001b[38;5;28mhasattr\u001b[39m(x, \u001b[38;5;124m\"\u001b[39m\u001b[38;5;124mdtype\u001b[39m\u001b[38;5;124m\"\u001b[39m) \u001b[38;5;28;01melse\u001b[39;00m x \u001b[38;5;28;01mfor\u001b[39;00m x \u001b[38;5;129;01min\u001b[39;00m arrays]\n\u001b[0;32m--> 503\u001b[0m \u001b[38;5;28;01mreturn\u001b[39;00m \u001b[43marrays_to_mgr\u001b[49m\u001b[43m(\u001b[49m\u001b[43marrays\u001b[49m\u001b[43m,\u001b[49m\u001b[43m \u001b[49m\u001b[43mcolumns\u001b[49m\u001b[43m,\u001b[49m\u001b[43m \u001b[49m\u001b[43mindex\u001b[49m\u001b[43m,\u001b[49m\u001b[43m \u001b[49m\u001b[43mdtype\u001b[49m\u001b[38;5;241;43m=\u001b[39;49m\u001b[43mdtype\u001b[49m\u001b[43m,\u001b[49m\u001b[43m \u001b[49m\u001b[43mtyp\u001b[49m\u001b[38;5;241;43m=\u001b[39;49m\u001b[43mtyp\u001b[49m\u001b[43m,\u001b[49m\u001b[43m \u001b[49m\u001b[43mconsolidate\u001b[49m\u001b[38;5;241;43m=\u001b[39;49m\u001b[43mcopy\u001b[49m\u001b[43m)\u001b[49m\n",
      "File \u001b[0;32m/opt/anaconda3/envs/qss20/lib/python3.10/site-packages/pandas/core/internals/construction.py:119\u001b[0m, in \u001b[0;36marrays_to_mgr\u001b[0;34m(arrays, columns, index, dtype, verify_integrity, typ, consolidate)\u001b[0m\n\u001b[1;32m    116\u001b[0m         index \u001b[38;5;241m=\u001b[39m ensure_index(index)\n\u001b[1;32m    118\u001b[0m     \u001b[38;5;66;03m# don't force copy because getting jammed in an ndarray anyway\u001b[39;00m\n\u001b[0;32m--> 119\u001b[0m     arrays, refs \u001b[38;5;241m=\u001b[39m \u001b[43m_homogenize\u001b[49m\u001b[43m(\u001b[49m\u001b[43marrays\u001b[49m\u001b[43m,\u001b[49m\u001b[43m \u001b[49m\u001b[43mindex\u001b[49m\u001b[43m,\u001b[49m\u001b[43m \u001b[49m\u001b[43mdtype\u001b[49m\u001b[43m)\u001b[49m\n\u001b[1;32m    120\u001b[0m     \u001b[38;5;66;03m# _homogenize ensures\u001b[39;00m\n\u001b[1;32m    121\u001b[0m     \u001b[38;5;66;03m#  - all(len(x) == len(index) for x in arrays)\u001b[39;00m\n\u001b[1;32m    122\u001b[0m     \u001b[38;5;66;03m#  - all(x.ndim == 1 for x in arrays)\u001b[39;00m\n\u001b[0;32m   (...)\u001b[0m\n\u001b[1;32m    125\u001b[0m \n\u001b[1;32m    126\u001b[0m \u001b[38;5;28;01melse\u001b[39;00m:\n\u001b[1;32m    127\u001b[0m     index \u001b[38;5;241m=\u001b[39m ensure_index(index)\n",
      "File \u001b[0;32m/opt/anaconda3/envs/qss20/lib/python3.10/site-packages/pandas/core/internals/construction.py:629\u001b[0m, in \u001b[0;36m_homogenize\u001b[0;34m(data, index, dtype)\u001b[0m\n\u001b[1;32m    626\u001b[0m         val \u001b[38;5;241m=\u001b[39m \u001b[38;5;28mdict\u001b[39m(val)\n\u001b[1;32m    627\u001b[0m     val \u001b[38;5;241m=\u001b[39m lib\u001b[38;5;241m.\u001b[39mfast_multiget(val, oindex\u001b[38;5;241m.\u001b[39m_values, default\u001b[38;5;241m=\u001b[39mnp\u001b[38;5;241m.\u001b[39mnan)\n\u001b[0;32m--> 629\u001b[0m val \u001b[38;5;241m=\u001b[39m \u001b[43msanitize_array\u001b[49m\u001b[43m(\u001b[49m\u001b[43mval\u001b[49m\u001b[43m,\u001b[49m\u001b[43m \u001b[49m\u001b[43mindex\u001b[49m\u001b[43m,\u001b[49m\u001b[43m \u001b[49m\u001b[43mdtype\u001b[49m\u001b[38;5;241;43m=\u001b[39;49m\u001b[43mdtype\u001b[49m\u001b[43m,\u001b[49m\u001b[43m \u001b[49m\u001b[43mcopy\u001b[49m\u001b[38;5;241;43m=\u001b[39;49m\u001b[38;5;28;43;01mFalse\u001b[39;49;00m\u001b[43m)\u001b[49m\n\u001b[1;32m    630\u001b[0m com\u001b[38;5;241m.\u001b[39mrequire_length_match(val, index)\n\u001b[1;32m    631\u001b[0m refs\u001b[38;5;241m.\u001b[39mappend(\u001b[38;5;28;01mNone\u001b[39;00m)\n",
      "File \u001b[0;32m/opt/anaconda3/envs/qss20/lib/python3.10/site-packages/pandas/core/construction.py:633\u001b[0m, in \u001b[0;36msanitize_array\u001b[0;34m(data, index, dtype, copy, allow_2d)\u001b[0m\n\u001b[1;32m    631\u001b[0m     \u001b[38;5;28;01melse\u001b[39;00m:\n\u001b[1;32m    632\u001b[0m         data \u001b[38;5;241m=\u001b[39m np\u001b[38;5;241m.\u001b[39marray(data, copy\u001b[38;5;241m=\u001b[39mcopy)\n\u001b[0;32m--> 633\u001b[0m     \u001b[38;5;28;01mreturn\u001b[39;00m \u001b[43msanitize_array\u001b[49m\u001b[43m(\u001b[49m\n\u001b[1;32m    634\u001b[0m \u001b[43m        \u001b[49m\u001b[43mdata\u001b[49m\u001b[43m,\u001b[49m\n\u001b[1;32m    635\u001b[0m \u001b[43m        \u001b[49m\u001b[43mindex\u001b[49m\u001b[38;5;241;43m=\u001b[39;49m\u001b[43mindex\u001b[49m\u001b[43m,\u001b[49m\n\u001b[1;32m    636\u001b[0m \u001b[43m        \u001b[49m\u001b[43mdtype\u001b[49m\u001b[38;5;241;43m=\u001b[39;49m\u001b[43mdtype\u001b[49m\u001b[43m,\u001b[49m\n\u001b[1;32m    637\u001b[0m \u001b[43m        \u001b[49m\u001b[43mcopy\u001b[49m\u001b[38;5;241;43m=\u001b[39;49m\u001b[38;5;28;43;01mFalse\u001b[39;49;00m\u001b[43m,\u001b[49m\n\u001b[1;32m    638\u001b[0m \u001b[43m        \u001b[49m\u001b[43mallow_2d\u001b[49m\u001b[38;5;241;43m=\u001b[39;49m\u001b[43mallow_2d\u001b[49m\u001b[43m,\u001b[49m\n\u001b[1;32m    639\u001b[0m \u001b[43m    \u001b[49m\u001b[43m)\u001b[49m\n\u001b[1;32m    641\u001b[0m \u001b[38;5;28;01melse\u001b[39;00m:\n\u001b[1;32m    642\u001b[0m     _sanitize_non_ordered(data)\n",
      "File \u001b[0;32m/opt/anaconda3/envs/qss20/lib/python3.10/site-packages/pandas/core/construction.py:606\u001b[0m, in \u001b[0;36msanitize_array\u001b[0;34m(data, index, dtype, copy, allow_2d)\u001b[0m\n\u001b[1;32m    604\u001b[0m subarr \u001b[38;5;241m=\u001b[39m data\n\u001b[1;32m    605\u001b[0m \u001b[38;5;28;01mif\u001b[39;00m data\u001b[38;5;241m.\u001b[39mdtype \u001b[38;5;241m==\u001b[39m \u001b[38;5;28mobject\u001b[39m:\n\u001b[0;32m--> 606\u001b[0m     subarr \u001b[38;5;241m=\u001b[39m \u001b[43mmaybe_infer_to_datetimelike\u001b[49m\u001b[43m(\u001b[49m\u001b[43mdata\u001b[49m\u001b[43m)\u001b[49m\n\u001b[1;32m    607\u001b[0m     \u001b[38;5;28;01mif\u001b[39;00m (\n\u001b[1;32m    608\u001b[0m         object_index\n\u001b[1;32m    609\u001b[0m         \u001b[38;5;129;01mand\u001b[39;00m using_pyarrow_string_dtype()\n\u001b[1;32m    610\u001b[0m         \u001b[38;5;129;01mand\u001b[39;00m is_string_dtype(subarr)\n\u001b[1;32m    611\u001b[0m     ):\n\u001b[1;32m    612\u001b[0m         \u001b[38;5;66;03m# Avoid inference when string option is set\u001b[39;00m\n\u001b[1;32m    613\u001b[0m         subarr \u001b[38;5;241m=\u001b[39m data\n",
      "File \u001b[0;32m/opt/anaconda3/envs/qss20/lib/python3.10/site-packages/pandas/core/dtypes/cast.py:1182\u001b[0m, in \u001b[0;36mmaybe_infer_to_datetimelike\u001b[0;34m(value)\u001b[0m\n\u001b[1;32m   1179\u001b[0m     \u001b[38;5;28;01mraise\u001b[39;00m \u001b[38;5;167;01mTypeError\u001b[39;00m(\u001b[38;5;28mtype\u001b[39m(value))  \u001b[38;5;66;03m# pragma: no cover\u001b[39;00m\n\u001b[1;32m   1180\u001b[0m \u001b[38;5;28;01mif\u001b[39;00m value\u001b[38;5;241m.\u001b[39mndim \u001b[38;5;241m!=\u001b[39m \u001b[38;5;241m1\u001b[39m:\n\u001b[1;32m   1181\u001b[0m     \u001b[38;5;66;03m# Caller is responsible\u001b[39;00m\n\u001b[0;32m-> 1182\u001b[0m     \u001b[38;5;28;01mraise\u001b[39;00m \u001b[38;5;167;01mValueError\u001b[39;00m(value\u001b[38;5;241m.\u001b[39mndim)  \u001b[38;5;66;03m# pragma: no cover\u001b[39;00m\n\u001b[1;32m   1184\u001b[0m \u001b[38;5;28;01mif\u001b[39;00m \u001b[38;5;129;01mnot\u001b[39;00m \u001b[38;5;28mlen\u001b[39m(value):\n\u001b[1;32m   1185\u001b[0m     \u001b[38;5;28;01mreturn\u001b[39;00m value\n",
      "\u001b[0;31mValueError\u001b[0m: 2"
     ]
    }
   ],
   "source": [
    "# your code here\n",
    "  \n",
    "# data (as pandas dataframes) \n",
    "X = wine.data.features \n",
    "X = X[['Alcohol', 'Malicacid', 'Ash', 'Total_phenols']]\n",
    "y = wine.data.targets \n",
    "\n",
    "#wine_df = pd.DataFrame(wine)"
   ]
  },
  {
   "cell_type": "code",
   "execution_count": null,
   "id": "2869662c",
   "metadata": {},
   "outputs": [],
   "source": []
  },
  {
   "cell_type": "code",
   "execution_count": null,
   "id": "40d6ecf6",
   "metadata": {},
   "outputs": [],
   "source": []
  },
  {
   "cell_type": "code",
   "execution_count": null,
   "id": "e77440b2",
   "metadata": {},
   "outputs": [],
   "source": []
  }
 ],
 "metadata": {
  "kernelspec": {
   "display_name": "Python 3 (ipykernel)",
   "language": "python",
   "name": "python3"
  },
  "language_info": {
   "codemirror_mode": {
    "name": "ipython",
    "version": 3
   },
   "file_extension": ".py",
   "mimetype": "text/x-python",
   "name": "python",
   "nbconvert_exporter": "python",
   "pygments_lexer": "ipython3",
   "version": "3.10.15"
  }
 },
 "nbformat": 4,
 "nbformat_minor": 5
}
