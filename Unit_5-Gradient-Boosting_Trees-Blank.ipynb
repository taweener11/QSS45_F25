{
 "cells": [
  {
   "cell_type": "code",
   "execution_count": 1,
   "id": "2b3d89d2",
   "metadata": {},
   "outputs": [],
   "source": [
    "import seaborn as sns\n",
    "import pandas as pd\n",
    "from sklearn.model_selection import train_test_split\n",
    "from sklearn.metrics import accuracy_score, classification_report\n",
    "from catboost import CatBoostClassifier\n",
    "import numpy as np\n",
    "import pandas as pd\n",
    "import matplotlib.pyplot as plt\n",
    "import seaborn as sns\n",
    "from sklearn.model_selection import train_test_split\n",
    "from sklearn.preprocessing import LabelEncoder\n",
    "from sklearn.tree import DecisionTreeClassifier, DecisionTreeRegressor\n",
    "import time\n",
    "from sklearn.ensemble import RandomForestClassifier, RandomForestRegressor\n",
    "from sklearn.metrics import accuracy_score, classification_report, confusion_matrix"
   ]
  },
  {
   "cell_type": "code",
   "execution_count": null,
   "id": "665a35fb-dfe1-4fdd-8258-63f4e77d43df",
   "metadata": {},
   "outputs": [],
   "source": [
    "!pip install catboost"
   ]
  },
  {
   "cell_type": "markdown",
   "id": "49c460d8-8ccc-4c6c-be9b-f16b0115e329",
   "metadata": {},
   "source": [
    "# Same features"
   ]
  },
  {
   "cell_type": "markdown",
   "id": "976bc75a-c792-45ab-9b69-29c44c807b91",
   "metadata": {},
   "source": [
    "We will train a CatBoost model on the Titanic dataset."
   ]
  },
  {
   "cell_type": "code",
   "execution_count": 2,
   "id": "3aa66b1f",
   "metadata": {},
   "outputs": [
    {
     "name": "stderr",
     "output_type": "stream",
     "text": [
      "/var/folders/0w/2wvbn9xx39scmwd7157fzlw80000gn/T/ipykernel_82510/391080209.py:2: FutureWarning: A value is trying to be set on a copy of a DataFrame or Series through chained assignment using an inplace method.\n",
      "The behavior will change in pandas 3.0. This inplace method will never work because the intermediate object on which we are setting values always behaves as a copy.\n",
      "\n",
      "For example, when doing 'df[col].method(value, inplace=True)', try using 'df.method({col: value}, inplace=True)' or df[col] = df[col].method(value) instead, to perform the operation inplace on the original object.\n",
      "\n",
      "\n",
      "  titanic['age'].fillna(titanic['age'].median(), inplace=True)\n"
     ]
    }
   ],
   "source": [
    "titanic = sns.load_dataset('titanic')\n",
    "titanic['age'].fillna(titanic['age'].median(), inplace=True)\n",
    "titanic.drop(columns=['who', 'embarked', 'parch', 'fare', 'deck', 'embark_town', 'alive',\"alone\"], inplace=True)"
   ]
  },
  {
   "cell_type": "code",
   "execution_count": 3,
   "id": "d0114e97",
   "metadata": {},
   "outputs": [],
   "source": [
    "X = titanic.drop(columns=['survived'])\n",
    "y = titanic['survived']\n",
    "\n",
    "cat_features = [\"sex\", \"class\"]\n",
    "\n",
    "X_train, X_test, y_train, y_test = train_test_split(X, y, test_size=0.2, random_state=42)"
   ]
  },
  {
   "cell_type": "code",
   "execution_count": 5,
   "id": "ce99c4d0",
   "metadata": {},
   "outputs": [
    {
     "data": {
      "application/vnd.jupyter.widget-view+json": {
       "model_id": "d584eeb541844425a894d04ce0cfb530",
       "version_major": 2,
       "version_minor": 0
      },
      "text/plain": [
       "MetricVisualizer(layout=Layout(align_self='stretch', height='500px'))"
      ]
     },
     "metadata": {},
     "output_type": "display_data"
    },
    {
     "name": "stdout",
     "output_type": "stream",
     "text": [
      "0:\tlearn: 0.6924184\ttest: 0.6924685\tbest: 0.6924685 (0)\ttotal: 2.44ms\tremaining: 48.9s\n",
      "100:\tlearn: 0.6332514\ttest: 0.6364176\tbest: 0.6364176 (100)\ttotal: 130ms\tremaining: 25.6s\n",
      "200:\tlearn: 0.5862023\ttest: 0.5930980\tbest: 0.5930980 (200)\ttotal: 231ms\tremaining: 22.7s\n",
      "300:\tlearn: 0.5493657\ttest: 0.5596037\tbest: 0.5596037 (300)\ttotal: 345ms\tremaining: 22.6s\n",
      "400:\tlearn: 0.5213354\ttest: 0.5343548\tbest: 0.5343548 (400)\ttotal: 448ms\tremaining: 21.9s\n",
      "500:\tlearn: 0.4988190\ttest: 0.5148300\tbest: 0.5148300 (500)\ttotal: 544ms\tremaining: 21.2s\n",
      "600:\tlearn: 0.4804815\ttest: 0.4993797\tbest: 0.4993797 (600)\ttotal: 633ms\tremaining: 20.4s\n",
      "700:\tlearn: 0.4652800\ttest: 0.4869980\tbest: 0.4869980 (700)\ttotal: 748ms\tremaining: 20.6s\n",
      "800:\tlearn: 0.4532700\ttest: 0.4776807\tbest: 0.4776807 (800)\ttotal: 852ms\tremaining: 20.4s\n",
      "900:\tlearn: 0.4437191\ttest: 0.4702102\tbest: 0.4702102 (900)\ttotal: 944ms\tremaining: 20s\n",
      "1000:\tlearn: 0.4357235\ttest: 0.4643957\tbest: 0.4643957 (1000)\ttotal: 1.06s\tremaining: 20.1s\n",
      "1100:\tlearn: 0.4289795\ttest: 0.4598085\tbest: 0.4598085 (1100)\ttotal: 1.16s\tremaining: 19.8s\n",
      "1200:\tlearn: 0.4232683\ttest: 0.4559737\tbest: 0.4559737 (1200)\ttotal: 1.24s\tremaining: 19.5s\n",
      "1300:\tlearn: 0.4186298\ttest: 0.4527893\tbest: 0.4527893 (1300)\ttotal: 1.33s\tremaining: 19.2s\n",
      "1400:\tlearn: 0.4146371\ttest: 0.4501043\tbest: 0.4501043 (1400)\ttotal: 1.6s\tremaining: 21.2s\n",
      "1500:\tlearn: 0.4112451\ttest: 0.4478999\tbest: 0.4478999 (1500)\ttotal: 1.71s\tremaining: 21.1s\n",
      "1600:\tlearn: 0.4079574\ttest: 0.4460986\tbest: 0.4460986 (1600)\ttotal: 1.82s\tremaining: 20.9s\n",
      "1700:\tlearn: 0.4050790\ttest: 0.4445376\tbest: 0.4445376 (1700)\ttotal: 1.91s\tremaining: 20.6s\n",
      "1800:\tlearn: 0.4027311\ttest: 0.4433727\tbest: 0.4433626 (1795)\ttotal: 2.04s\tremaining: 20.7s\n",
      "1900:\tlearn: 0.4005090\ttest: 0.4422080\tbest: 0.4422080 (1900)\ttotal: 2.15s\tremaining: 20.5s\n",
      "2000:\tlearn: 0.3986318\ttest: 0.4412872\tbest: 0.4412872 (2000)\ttotal: 2.24s\tremaining: 20.1s\n",
      "2100:\tlearn: 0.3968102\ttest: 0.4406613\tbest: 0.4406613 (2100)\ttotal: 2.34s\tremaining: 19.9s\n",
      "2200:\tlearn: 0.3950615\ttest: 0.4399516\tbest: 0.4399480 (2196)\ttotal: 2.44s\tremaining: 19.7s\n",
      "2300:\tlearn: 0.3936949\ttest: 0.4392990\tbest: 0.4392979 (2299)\ttotal: 2.52s\tremaining: 19.4s\n",
      "2400:\tlearn: 0.3922906\ttest: 0.4387598\tbest: 0.4387598 (2400)\ttotal: 2.63s\tremaining: 19.3s\n",
      "2500:\tlearn: 0.3910302\ttest: 0.4382524\tbest: 0.4382490 (2498)\ttotal: 2.72s\tremaining: 19.1s\n",
      "2600:\tlearn: 0.3897655\ttest: 0.4380308\tbest: 0.4380045 (2581)\ttotal: 2.82s\tremaining: 18.8s\n",
      "2700:\tlearn: 0.3887321\ttest: 0.4376792\tbest: 0.4376750 (2696)\ttotal: 2.91s\tremaining: 18.7s\n",
      "2800:\tlearn: 0.3875592\ttest: 0.4374673\tbest: 0.4374460 (2799)\ttotal: 3.04s\tremaining: 18.6s\n",
      "2900:\tlearn: 0.3864380\ttest: 0.4371650\tbest: 0.4371650 (2900)\ttotal: 3.14s\tremaining: 18.5s\n",
      "3000:\tlearn: 0.3854560\ttest: 0.4366889\tbest: 0.4366889 (3000)\ttotal: 3.24s\tremaining: 18.4s\n",
      "3100:\tlearn: 0.3846012\ttest: 0.4365093\tbest: 0.4364692 (3093)\ttotal: 3.33s\tremaining: 18.2s\n",
      "3200:\tlearn: 0.3837799\ttest: 0.4364278\tbest: 0.4364278 (3199)\ttotal: 3.43s\tremaining: 18s\n",
      "3300:\tlearn: 0.3827754\ttest: 0.4363557\tbest: 0.4363113 (3245)\ttotal: 3.53s\tremaining: 17.9s\n",
      "3400:\tlearn: 0.3818353\ttest: 0.4362495\tbest: 0.4362278 (3371)\ttotal: 3.63s\tremaining: 17.7s\n",
      "3500:\tlearn: 0.3810494\ttest: 0.4361719\tbest: 0.4361669 (3497)\ttotal: 3.73s\tremaining: 17.6s\n",
      "3600:\tlearn: 0.3803371\ttest: 0.4360797\tbest: 0.4360797 (3600)\ttotal: 3.83s\tremaining: 17.4s\n",
      "3700:\tlearn: 0.3796140\ttest: 0.4359092\tbest: 0.4358594 (3692)\ttotal: 4.05s\tremaining: 17.8s\n",
      "3800:\tlearn: 0.3786440\ttest: 0.4360669\tbest: 0.4357979 (3747)\ttotal: 4.15s\tremaining: 17.7s\n",
      "3900:\tlearn: 0.3778409\ttest: 0.4361149\tbest: 0.4357979 (3747)\ttotal: 4.25s\tremaining: 17.5s\n",
      "4000:\tlearn: 0.3771195\ttest: 0.4361365\tbest: 0.4357979 (3747)\ttotal: 4.34s\tremaining: 17.4s\n",
      "4100:\tlearn: 0.3764719\ttest: 0.4362070\tbest: 0.4357979 (3747)\ttotal: 4.43s\tremaining: 17.2s\n",
      "4200:\tlearn: 0.3756444\ttest: 0.4361456\tbest: 0.4357979 (3747)\ttotal: 4.54s\tremaining: 17.1s\n",
      "4300:\tlearn: 0.3749583\ttest: 0.4361674\tbest: 0.4357979 (3747)\ttotal: 4.63s\tremaining: 16.9s\n",
      "4400:\tlearn: 0.3742584\ttest: 0.4362458\tbest: 0.4357979 (3747)\ttotal: 4.73s\tremaining: 16.8s\n",
      "4500:\tlearn: 0.3733651\ttest: 0.4361274\tbest: 0.4357979 (3747)\ttotal: 4.84s\tremaining: 16.7s\n",
      "4600:\tlearn: 0.3726942\ttest: 0.4360906\tbest: 0.4357979 (3747)\ttotal: 4.94s\tremaining: 16.5s\n",
      "4700:\tlearn: 0.3718326\ttest: 0.4362558\tbest: 0.4357979 (3747)\ttotal: 5.08s\tremaining: 16.5s\n",
      "4800:\tlearn: 0.3711706\ttest: 0.4363240\tbest: 0.4357979 (3747)\ttotal: 5.18s\tremaining: 16.4s\n",
      "4900:\tlearn: 0.3705122\ttest: 0.4362633\tbest: 0.4357979 (3747)\ttotal: 5.28s\tremaining: 16.3s\n",
      "5000:\tlearn: 0.3698899\ttest: 0.4362118\tbest: 0.4357979 (3747)\ttotal: 5.37s\tremaining: 16.1s\n",
      "5100:\tlearn: 0.3691838\ttest: 0.4363643\tbest: 0.4357979 (3747)\ttotal: 5.48s\tremaining: 16s\n",
      "5200:\tlearn: 0.3684894\ttest: 0.4365291\tbest: 0.4357979 (3747)\ttotal: 5.58s\tremaining: 15.9s\n",
      "5300:\tlearn: 0.3678518\ttest: 0.4364615\tbest: 0.4357979 (3747)\ttotal: 5.68s\tremaining: 15.7s\n",
      "5400:\tlearn: 0.3671119\ttest: 0.4365829\tbest: 0.4357979 (3747)\ttotal: 5.77s\tremaining: 15.6s\n",
      "5500:\tlearn: 0.3663775\ttest: 0.4367130\tbest: 0.4357979 (3747)\ttotal: 5.87s\tremaining: 15.5s\n",
      "5600:\tlearn: 0.3657852\ttest: 0.4368002\tbest: 0.4357979 (3747)\ttotal: 5.96s\tremaining: 15.3s\n",
      "5700:\tlearn: 0.3651913\ttest: 0.4368568\tbest: 0.4357979 (3747)\ttotal: 6.12s\tremaining: 15.4s\n",
      "5800:\tlearn: 0.3646184\ttest: 0.4368955\tbest: 0.4357979 (3747)\ttotal: 6.22s\tremaining: 15.2s\n",
      "5900:\tlearn: 0.3638508\ttest: 0.4372240\tbest: 0.4357979 (3747)\ttotal: 6.32s\tremaining: 15.1s\n",
      "6000:\tlearn: 0.3631618\ttest: 0.4374438\tbest: 0.4357979 (3747)\ttotal: 6.43s\tremaining: 15s\n",
      "6100:\tlearn: 0.3624400\ttest: 0.4375748\tbest: 0.4357979 (3747)\ttotal: 6.53s\tremaining: 14.9s\n",
      "6200:\tlearn: 0.3617369\ttest: 0.4375565\tbest: 0.4357979 (3747)\ttotal: 6.66s\tremaining: 14.8s\n",
      "6300:\tlearn: 0.3609534\ttest: 0.4378022\tbest: 0.4357979 (3747)\ttotal: 6.83s\tremaining: 14.8s\n",
      "6400:\tlearn: 0.3602516\ttest: 0.4380113\tbest: 0.4357979 (3747)\ttotal: 6.96s\tremaining: 14.8s\n",
      "6500:\tlearn: 0.3595208\ttest: 0.4381729\tbest: 0.4357979 (3747)\ttotal: 7.11s\tremaining: 14.8s\n",
      "6600:\tlearn: 0.3586938\ttest: 0.4384095\tbest: 0.4357979 (3747)\ttotal: 7.2s\tremaining: 14.6s\n",
      "6700:\tlearn: 0.3580009\ttest: 0.4386091\tbest: 0.4357979 (3747)\ttotal: 7.3s\tremaining: 14.5s\n",
      "6800:\tlearn: 0.3572036\ttest: 0.4389263\tbest: 0.4357979 (3747)\ttotal: 7.4s\tremaining: 14.4s\n",
      "6900:\tlearn: 0.3563661\ttest: 0.4391874\tbest: 0.4357979 (3747)\ttotal: 7.51s\tremaining: 14.2s\n",
      "7000:\tlearn: 0.3556448\ttest: 0.4393200\tbest: 0.4357979 (3747)\ttotal: 7.61s\tremaining: 14.1s\n",
      "7100:\tlearn: 0.3548714\ttest: 0.4395949\tbest: 0.4357979 (3747)\ttotal: 7.72s\tremaining: 14s\n",
      "7200:\tlearn: 0.3542094\ttest: 0.4396743\tbest: 0.4357979 (3747)\ttotal: 7.82s\tremaining: 13.9s\n",
      "7300:\tlearn: 0.3532841\ttest: 0.4399204\tbest: 0.4357979 (3747)\ttotal: 7.94s\tremaining: 13.8s\n",
      "7400:\tlearn: 0.3525344\ttest: 0.4401046\tbest: 0.4357979 (3747)\ttotal: 8.19s\tremaining: 13.9s\n",
      "7500:\tlearn: 0.3517016\ttest: 0.4402885\tbest: 0.4357979 (3747)\ttotal: 8.31s\tremaining: 13.8s\n",
      "7600:\tlearn: 0.3508124\ttest: 0.4404703\tbest: 0.4357979 (3747)\ttotal: 8.41s\tremaining: 13.7s\n",
      "7700:\tlearn: 0.3498646\ttest: 0.4406517\tbest: 0.4357979 (3747)\ttotal: 8.51s\tremaining: 13.6s\n",
      "7800:\tlearn: 0.3490657\ttest: 0.4410118\tbest: 0.4357979 (3747)\ttotal: 8.61s\tremaining: 13.5s\n",
      "7900:\tlearn: 0.3481929\ttest: 0.4413163\tbest: 0.4357979 (3747)\ttotal: 8.71s\tremaining: 13.3s\n",
      "8000:\tlearn: 0.3473407\ttest: 0.4417200\tbest: 0.4357979 (3747)\ttotal: 8.82s\tremaining: 13.2s\n",
      "8100:\tlearn: 0.3465146\ttest: 0.4421379\tbest: 0.4357979 (3747)\ttotal: 8.91s\tremaining: 13.1s\n",
      "8200:\tlearn: 0.3455621\ttest: 0.4423803\tbest: 0.4357979 (3747)\ttotal: 9.04s\tremaining: 13s\n",
      "8300:\tlearn: 0.3448619\ttest: 0.4424850\tbest: 0.4357979 (3747)\ttotal: 9.16s\tremaining: 12.9s\n",
      "8400:\tlearn: 0.3438909\ttest: 0.4429017\tbest: 0.4357979 (3747)\ttotal: 9.27s\tremaining: 12.8s\n",
      "8500:\tlearn: 0.3429676\ttest: 0.4432193\tbest: 0.4357979 (3747)\ttotal: 9.38s\tremaining: 12.7s\n",
      "8600:\tlearn: 0.3419834\ttest: 0.4434619\tbest: 0.4357979 (3747)\ttotal: 9.49s\tremaining: 12.6s\n",
      "8700:\tlearn: 0.3409643\ttest: 0.4439921\tbest: 0.4357979 (3747)\ttotal: 9.59s\tremaining: 12.5s\n",
      "8800:\tlearn: 0.3401272\ttest: 0.4442872\tbest: 0.4357979 (3747)\ttotal: 9.76s\tremaining: 12.4s\n",
      "8900:\tlearn: 0.3392928\ttest: 0.4445306\tbest: 0.4357979 (3747)\ttotal: 9.89s\tremaining: 12.3s\n",
      "9000:\tlearn: 0.3385399\ttest: 0.4447746\tbest: 0.4357979 (3747)\ttotal: 10.1s\tremaining: 12.4s\n",
      "9100:\tlearn: 0.3375697\ttest: 0.4447591\tbest: 0.4357979 (3747)\ttotal: 10.2s\tremaining: 12.3s\n",
      "9200:\tlearn: 0.3365475\ttest: 0.4447189\tbest: 0.4357979 (3747)\ttotal: 10.4s\tremaining: 12.2s\n",
      "9300:\tlearn: 0.3356749\ttest: 0.4447393\tbest: 0.4357979 (3747)\ttotal: 10.5s\tremaining: 12s\n",
      "9400:\tlearn: 0.3347589\ttest: 0.4449269\tbest: 0.4357979 (3747)\ttotal: 10.6s\tremaining: 11.9s\n",
      "9500:\tlearn: 0.3338102\ttest: 0.4450756\tbest: 0.4357979 (3747)\ttotal: 10.7s\tremaining: 11.8s\n",
      "9600:\tlearn: 0.3329721\ttest: 0.4451181\tbest: 0.4357979 (3747)\ttotal: 10.8s\tremaining: 11.7s\n",
      "9700:\tlearn: 0.3320961\ttest: 0.4449366\tbest: 0.4357979 (3747)\ttotal: 10.9s\tremaining: 11.6s\n",
      "9800:\tlearn: 0.3312595\ttest: 0.4448391\tbest: 0.4357979 (3747)\ttotal: 11s\tremaining: 11.5s\n",
      "9900:\tlearn: 0.3304249\ttest: 0.4451265\tbest: 0.4357979 (3747)\ttotal: 11.2s\tremaining: 11.4s\n",
      "10000:\tlearn: 0.3294949\ttest: 0.4452165\tbest: 0.4357979 (3747)\ttotal: 11.3s\tremaining: 11.3s\n",
      "10100:\tlearn: 0.3286531\ttest: 0.4454609\tbest: 0.4357979 (3747)\ttotal: 11.4s\tremaining: 11.2s\n",
      "10200:\tlearn: 0.3276736\ttest: 0.4456809\tbest: 0.4357979 (3747)\ttotal: 11.5s\tremaining: 11.1s\n",
      "10300:\tlearn: 0.3268324\ttest: 0.4460594\tbest: 0.4357979 (3747)\ttotal: 11.7s\tremaining: 11s\n",
      "10400:\tlearn: 0.3259942\ttest: 0.4465781\tbest: 0.4357979 (3747)\ttotal: 11.8s\tremaining: 10.9s\n",
      "10500:\tlearn: 0.3251722\ttest: 0.4468325\tbest: 0.4357979 (3747)\ttotal: 11.9s\tremaining: 10.7s\n",
      "10600:\tlearn: 0.3243777\ttest: 0.4470329\tbest: 0.4357979 (3747)\ttotal: 12s\tremaining: 10.6s\n",
      "10700:\tlearn: 0.3235551\ttest: 0.4476000\tbest: 0.4357979 (3747)\ttotal: 12.1s\tremaining: 10.5s\n",
      "10800:\tlearn: 0.3227840\ttest: 0.4478347\tbest: 0.4357979 (3747)\ttotal: 12.4s\tremaining: 10.5s\n",
      "10900:\tlearn: 0.3220201\ttest: 0.4479315\tbest: 0.4357979 (3747)\ttotal: 12.5s\tremaining: 10.4s\n",
      "11000:\tlearn: 0.3212574\ttest: 0.4483903\tbest: 0.4357979 (3747)\ttotal: 12.6s\tremaining: 10.3s\n",
      "11100:\tlearn: 0.3204673\ttest: 0.4489518\tbest: 0.4357979 (3747)\ttotal: 12.7s\tremaining: 10.2s\n",
      "11200:\tlearn: 0.3196298\ttest: 0.4490240\tbest: 0.4357979 (3747)\ttotal: 12.8s\tremaining: 10.1s\n",
      "11300:\tlearn: 0.3187856\ttest: 0.4492301\tbest: 0.4357979 (3747)\ttotal: 12.9s\tremaining: 9.95s\n",
      "11400:\tlearn: 0.3179431\ttest: 0.4494059\tbest: 0.4357979 (3747)\ttotal: 13s\tremaining: 9.83s\n",
      "11500:\tlearn: 0.3172034\ttest: 0.4497858\tbest: 0.4357979 (3747)\ttotal: 13.1s\tremaining: 9.71s\n",
      "11600:\tlearn: 0.3163787\ttest: 0.4503780\tbest: 0.4357979 (3747)\ttotal: 13.4s\tremaining: 9.69s\n",
      "11700:\tlearn: 0.3155517\ttest: 0.4506016\tbest: 0.4357979 (3747)\ttotal: 13.5s\tremaining: 9.56s\n",
      "11800:\tlearn: 0.3147653\ttest: 0.4507562\tbest: 0.4357979 (3747)\ttotal: 13.6s\tremaining: 9.45s\n",
      "11900:\tlearn: 0.3140061\ttest: 0.4510806\tbest: 0.4357979 (3747)\ttotal: 13.7s\tremaining: 9.33s\n",
      "12000:\tlearn: 0.3133084\ttest: 0.4513987\tbest: 0.4357979 (3747)\ttotal: 13.8s\tremaining: 9.21s\n",
      "12100:\tlearn: 0.3125784\ttest: 0.4517826\tbest: 0.4357979 (3747)\ttotal: 13.9s\tremaining: 9.1s\n",
      "12200:\tlearn: 0.3119442\ttest: 0.4518878\tbest: 0.4357979 (3747)\ttotal: 14.1s\tremaining: 8.98s\n",
      "12300:\tlearn: 0.3112876\ttest: 0.4522783\tbest: 0.4357979 (3747)\ttotal: 14.2s\tremaining: 8.87s\n",
      "12400:\tlearn: 0.3105547\ttest: 0.4526806\tbest: 0.4357979 (3747)\ttotal: 14.3s\tremaining: 8.74s\n",
      "12500:\tlearn: 0.3099046\ttest: 0.4529573\tbest: 0.4357979 (3747)\ttotal: 14.4s\tremaining: 8.63s\n",
      "12600:\tlearn: 0.3092265\ttest: 0.4532771\tbest: 0.4357979 (3747)\ttotal: 14.5s\tremaining: 8.52s\n",
      "12700:\tlearn: 0.3084824\ttest: 0.4536598\tbest: 0.4357979 (3747)\ttotal: 14.6s\tremaining: 8.4s\n",
      "12800:\tlearn: 0.3077985\ttest: 0.4538382\tbest: 0.4357979 (3747)\ttotal: 14.7s\tremaining: 8.28s\n",
      "12900:\tlearn: 0.3071778\ttest: 0.4540577\tbest: 0.4357979 (3747)\ttotal: 14.8s\tremaining: 8.16s\n",
      "13000:\tlearn: 0.3065522\ttest: 0.4542603\tbest: 0.4357979 (3747)\ttotal: 14.9s\tremaining: 8.04s\n",
      "13100:\tlearn: 0.3059234\ttest: 0.4545326\tbest: 0.4357979 (3747)\ttotal: 15.1s\tremaining: 7.93s\n",
      "13200:\tlearn: 0.3053027\ttest: 0.4549637\tbest: 0.4357979 (3747)\ttotal: 15.2s\tremaining: 7.81s\n",
      "13300:\tlearn: 0.3047560\ttest: 0.4549378\tbest: 0.4357979 (3747)\ttotal: 15.4s\tremaining: 7.77s\n",
      "13400:\tlearn: 0.3041261\ttest: 0.4552718\tbest: 0.4357979 (3747)\ttotal: 15.5s\tremaining: 7.65s\n",
      "13500:\tlearn: 0.3034679\ttest: 0.4553912\tbest: 0.4357979 (3747)\ttotal: 15.7s\tremaining: 7.54s\n",
      "13600:\tlearn: 0.3028467\ttest: 0.4555441\tbest: 0.4357979 (3747)\ttotal: 15.8s\tremaining: 7.41s\n",
      "13700:\tlearn: 0.3021804\ttest: 0.4559543\tbest: 0.4357979 (3747)\ttotal: 15.9s\tremaining: 7.32s\n",
      "13800:\tlearn: 0.3016192\ttest: 0.4561730\tbest: 0.4357979 (3747)\ttotal: 16.1s\tremaining: 7.21s\n",
      "13900:\tlearn: 0.3010806\ttest: 0.4564932\tbest: 0.4357979 (3747)\ttotal: 16.2s\tremaining: 7.1s\n",
      "14000:\tlearn: 0.3004711\ttest: 0.4568311\tbest: 0.4357979 (3747)\ttotal: 16.3s\tremaining: 6.98s\n",
      "14100:\tlearn: 0.2999422\ttest: 0.4569611\tbest: 0.4357979 (3747)\ttotal: 16.6s\tremaining: 6.94s\n",
      "14200:\tlearn: 0.2993894\ttest: 0.4572763\tbest: 0.4357979 (3747)\ttotal: 16.8s\tremaining: 6.86s\n",
      "14300:\tlearn: 0.2988254\ttest: 0.4576390\tbest: 0.4357979 (3747)\ttotal: 16.9s\tremaining: 6.75s\n",
      "14400:\tlearn: 0.2982093\ttest: 0.4579602\tbest: 0.4357979 (3747)\ttotal: 17.1s\tremaining: 6.64s\n",
      "14500:\tlearn: 0.2974805\ttest: 0.4580831\tbest: 0.4357979 (3747)\ttotal: 17.2s\tremaining: 6.53s\n",
      "14600:\tlearn: 0.2969891\ttest: 0.4581188\tbest: 0.4357979 (3747)\ttotal: 17.3s\tremaining: 6.41s\n",
      "14700:\tlearn: 0.2964166\ttest: 0.4583136\tbest: 0.4357979 (3747)\ttotal: 17.5s\tremaining: 6.29s\n",
      "14800:\tlearn: 0.2958860\ttest: 0.4586456\tbest: 0.4357979 (3747)\ttotal: 17.6s\tremaining: 6.18s\n",
      "14900:\tlearn: 0.2953014\ttest: 0.4589949\tbest: 0.4357979 (3747)\ttotal: 17.7s\tremaining: 6.06s\n",
      "15000:\tlearn: 0.2948275\ttest: 0.4593176\tbest: 0.4357979 (3747)\ttotal: 17.8s\tremaining: 5.94s\n",
      "15100:\tlearn: 0.2942548\ttest: 0.4598716\tbest: 0.4357979 (3747)\ttotal: 17.9s\tremaining: 5.82s\n",
      "15200:\tlearn: 0.2937869\ttest: 0.4602258\tbest: 0.4357979 (3747)\ttotal: 18s\tremaining: 5.7s\n",
      "15300:\tlearn: 0.2932640\ttest: 0.4603671\tbest: 0.4357979 (3747)\ttotal: 18.1s\tremaining: 5.57s\n",
      "15400:\tlearn: 0.2927860\ttest: 0.4606397\tbest: 0.4357979 (3747)\ttotal: 18.2s\tremaining: 5.45s\n",
      "15500:\tlearn: 0.2923061\ttest: 0.4608264\tbest: 0.4357979 (3747)\ttotal: 18.4s\tremaining: 5.33s\n",
      "15600:\tlearn: 0.2917816\ttest: 0.4611051\tbest: 0.4357979 (3747)\ttotal: 18.7s\tremaining: 5.26s\n",
      "15700:\tlearn: 0.2912337\ttest: 0.4614046\tbest: 0.4357979 (3747)\ttotal: 18.8s\tremaining: 5.15s\n",
      "15800:\tlearn: 0.2907822\ttest: 0.4616514\tbest: 0.4357979 (3747)\ttotal: 19s\tremaining: 5.04s\n",
      "15900:\tlearn: 0.2903445\ttest: 0.4620453\tbest: 0.4357979 (3747)\ttotal: 19.2s\tremaining: 4.94s\n",
      "16000:\tlearn: 0.2898288\ttest: 0.4624179\tbest: 0.4357979 (3747)\ttotal: 19.3s\tremaining: 4.83s\n",
      "16100:\tlearn: 0.2893869\ttest: 0.4626218\tbest: 0.4357979 (3747)\ttotal: 19.5s\tremaining: 4.71s\n",
      "16200:\tlearn: 0.2889403\ttest: 0.4628085\tbest: 0.4357979 (3747)\ttotal: 19.8s\tremaining: 4.63s\n",
      "16300:\tlearn: 0.2884497\ttest: 0.4629473\tbest: 0.4357979 (3747)\ttotal: 19.9s\tremaining: 4.51s\n",
      "16400:\tlearn: 0.2880111\ttest: 0.4633591\tbest: 0.4357979 (3747)\ttotal: 20s\tremaining: 4.39s\n",
      "16500:\tlearn: 0.2875911\ttest: 0.4637724\tbest: 0.4357979 (3747)\ttotal: 20.1s\tremaining: 4.26s\n",
      "16600:\tlearn: 0.2871508\ttest: 0.4640762\tbest: 0.4357979 (3747)\ttotal: 20.2s\tremaining: 4.14s\n",
      "16700:\tlearn: 0.2867431\ttest: 0.4645186\tbest: 0.4357979 (3747)\ttotal: 20.4s\tremaining: 4.02s\n",
      "16800:\tlearn: 0.2862664\ttest: 0.4647738\tbest: 0.4357979 (3747)\ttotal: 20.5s\tremaining: 3.9s\n",
      "16900:\tlearn: 0.2858368\ttest: 0.4650944\tbest: 0.4357979 (3747)\ttotal: 20.7s\tremaining: 3.79s\n",
      "17000:\tlearn: 0.2854084\ttest: 0.4654445\tbest: 0.4357979 (3747)\ttotal: 20.9s\tremaining: 3.69s\n",
      "17100:\tlearn: 0.2849666\ttest: 0.4658902\tbest: 0.4357979 (3747)\ttotal: 21s\tremaining: 3.57s\n",
      "17200:\tlearn: 0.2845375\ttest: 0.4661533\tbest: 0.4357979 (3747)\ttotal: 21.2s\tremaining: 3.44s\n",
      "17300:\tlearn: 0.2840146\ttest: 0.4664740\tbest: 0.4357979 (3747)\ttotal: 21.3s\tremaining: 3.32s\n",
      "17400:\tlearn: 0.2835912\ttest: 0.4665587\tbest: 0.4357979 (3747)\ttotal: 21.4s\tremaining: 3.19s\n",
      "17500:\tlearn: 0.2832192\ttest: 0.4669129\tbest: 0.4357979 (3747)\ttotal: 21.5s\tremaining: 3.07s\n",
      "17600:\tlearn: 0.2828181\ttest: 0.4671898\tbest: 0.4357979 (3747)\ttotal: 21.6s\tremaining: 2.94s\n",
      "17700:\tlearn: 0.2824079\ttest: 0.4677701\tbest: 0.4357979 (3747)\ttotal: 21.7s\tremaining: 2.82s\n",
      "17800:\tlearn: 0.2819369\ttest: 0.4682309\tbest: 0.4357979 (3747)\ttotal: 21.9s\tremaining: 2.71s\n",
      "17900:\tlearn: 0.2815384\ttest: 0.4686098\tbest: 0.4357979 (3747)\ttotal: 22.1s\tremaining: 2.59s\n",
      "18000:\tlearn: 0.2810674\ttest: 0.4688874\tbest: 0.4357979 (3747)\ttotal: 22.2s\tremaining: 2.46s\n",
      "18100:\tlearn: 0.2806024\ttest: 0.4693171\tbest: 0.4357979 (3747)\ttotal: 22.3s\tremaining: 2.34s\n",
      "18200:\tlearn: 0.2801594\ttest: 0.4695302\tbest: 0.4357979 (3747)\ttotal: 22.4s\tremaining: 2.21s\n",
      "18300:\tlearn: 0.2797051\ttest: 0.4698305\tbest: 0.4357979 (3747)\ttotal: 22.5s\tremaining: 2.09s\n",
      "18400:\tlearn: 0.2793404\ttest: 0.4701479\tbest: 0.4357979 (3747)\ttotal: 22.6s\tremaining: 1.97s\n",
      "18500:\tlearn: 0.2789219\ttest: 0.4702849\tbest: 0.4357979 (3747)\ttotal: 22.7s\tremaining: 1.84s\n",
      "18600:\tlearn: 0.2785255\ttest: 0.4705455\tbest: 0.4357979 (3747)\ttotal: 22.9s\tremaining: 1.72s\n",
      "18700:\tlearn: 0.2780862\ttest: 0.4711277\tbest: 0.4357979 (3747)\ttotal: 23s\tremaining: 1.6s\n",
      "18800:\tlearn: 0.2776746\ttest: 0.4713254\tbest: 0.4357979 (3747)\ttotal: 23.1s\tremaining: 1.48s\n",
      "18900:\tlearn: 0.2772594\ttest: 0.4717332\tbest: 0.4357979 (3747)\ttotal: 23.3s\tremaining: 1.35s\n",
      "19000:\tlearn: 0.2768451\ttest: 0.4722616\tbest: 0.4357979 (3747)\ttotal: 23.4s\tremaining: 1.23s\n",
      "19100:\tlearn: 0.2764770\ttest: 0.4726400\tbest: 0.4357979 (3747)\ttotal: 23.5s\tremaining: 1.1s\n",
      "19200:\tlearn: 0.2760842\ttest: 0.4730552\tbest: 0.4357979 (3747)\ttotal: 23.6s\tremaining: 982ms\n",
      "19300:\tlearn: 0.2756875\ttest: 0.4733674\tbest: 0.4357979 (3747)\ttotal: 23.7s\tremaining: 859ms\n",
      "19400:\tlearn: 0.2753186\ttest: 0.4736892\tbest: 0.4357979 (3747)\ttotal: 23.8s\tremaining: 736ms\n",
      "19500:\tlearn: 0.2749169\ttest: 0.4742459\tbest: 0.4357979 (3747)\ttotal: 23.9s\tremaining: 612ms\n",
      "19600:\tlearn: 0.2745222\ttest: 0.4746674\tbest: 0.4357979 (3747)\ttotal: 24s\tremaining: 489ms\n",
      "19700:\tlearn: 0.2741192\ttest: 0.4748883\tbest: 0.4357979 (3747)\ttotal: 24.1s\tremaining: 366ms\n",
      "19800:\tlearn: 0.2737180\ttest: 0.4753633\tbest: 0.4357979 (3747)\ttotal: 24.3s\tremaining: 244ms\n",
      "19900:\tlearn: 0.2733307\ttest: 0.4756654\tbest: 0.4357979 (3747)\ttotal: 24.4s\tremaining: 121ms\n",
      "19999:\tlearn: 0.2729584\ttest: 0.4759744\tbest: 0.4357979 (3747)\ttotal: 24.5s\tremaining: 0us\n",
      "\n",
      "bestTest = 0.4357979349\n",
      "bestIteration = 3747\n",
      "\n",
      "Shrink model to first 3748 iterations.\n"
     ]
    },
    {
     "data": {
      "text/plain": [
       "<catboost.core.CatBoostClassifier at 0x1847c1180>"
      ]
     },
     "execution_count": 5,
     "metadata": {},
     "output_type": "execute_result"
    }
   ],
   "source": [
    "# Initialize CatBoost Classifier\n",
    "catboost_model = CatBoostClassifier(iterations=20000, \n",
    "                                    learning_rate=0.001, \n",
    "                                    depth=6, \n",
    "                                    verbose=100)\n",
    "\n",
    "# Train the model\n",
    "catboost_model.fit(X_train, y_train, \n",
    "                   eval_set = (X_test, y_test),\n",
    "                   cat_features=cat_features,plot=True)"
   ]
  },
  {
   "cell_type": "code",
   "execution_count": 6,
   "id": "c360a829",
   "metadata": {},
   "outputs": [
    {
     "name": "stdout",
     "output_type": "stream",
     "text": [
      "CatBoost Accuracy: 0.8212\n",
      "              precision    recall  f1-score   support\n",
      "\n",
      "           0       0.81      0.91      0.86       105\n",
      "           1       0.85      0.69      0.76        74\n",
      "\n",
      "    accuracy                           0.82       179\n",
      "   macro avg       0.83      0.80      0.81       179\n",
      "weighted avg       0.82      0.82      0.82       179\n",
      "\n"
     ]
    }
   ],
   "source": [
    "# Make predictions\n",
    "y_pred_cb = catboost_model.predict(X_test)\n",
    "\n",
    "# Evaluate the Cat_boost\n",
    "cb_accuracy = accuracy_score(y_test, y_pred_cb)\n",
    "print(f\"CatBoost Accuracy: {cb_accuracy:.4f}\")\n",
    "print(classification_report(y_test, y_pred_cb))"
   ]
  },
  {
   "cell_type": "code",
   "execution_count": null,
   "id": "6204adfe-1e30-478d-bb56-3a7ae8b39d2f",
   "metadata": {},
   "outputs": [],
   "source": []
  },
  {
   "cell_type": "code",
   "execution_count": null,
   "id": "47b9e076-d0f6-4e21-a088-0889307eedf0",
   "metadata": {},
   "outputs": [],
   "source": []
  },
  {
   "cell_type": "markdown",
   "id": "adeb9c69-bd13-46f1-9d79-bb9c26cf4ba2",
   "metadata": {},
   "source": [
    "# Other features"
   ]
  },
  {
   "cell_type": "markdown",
   "id": "f97d5726-fe86-4a75-b3c8-661c65c35929",
   "metadata": {},
   "source": [
    "Try adding other categorical features. Does your accuracy improve?"
   ]
  },
  {
   "cell_type": "code",
   "execution_count": null,
   "id": "f194be3e-b5e4-47e1-bc61-91592bcd4ea0",
   "metadata": {},
   "outputs": [],
   "source": [
    "titanic = sns.load_dataset('titanic')\n",
    "titanic['age'].fillna(titanic['age'].median(), inplace=True)\n",
    "# Manipulate the columns that you add"
   ]
  },
  {
   "cell_type": "code",
   "execution_count": null,
   "id": "e994d51f-c21c-4f0a-b98d-2f5a57f2c47f",
   "metadata": {},
   "outputs": [],
   "source": []
  },
  {
   "cell_type": "code",
   "execution_count": null,
   "id": "f073969a-9fb4-414d-8e20-cb264a9b745d",
   "metadata": {},
   "outputs": [],
   "source": []
  },
  {
   "cell_type": "markdown",
   "id": "5f30d476-178a-4a17-93d3-66134be5bc40",
   "metadata": {},
   "source": [
    "# Regression"
   ]
  },
  {
   "cell_type": "markdown",
   "id": "e8439914-dc2e-4813-9622-2aba44171d49",
   "metadata": {},
   "source": [
    "### Now, try doing regression instead of classification. \n",
    "Using the California housing dataset, train regression models using Decision Trees, Random Forest, and CatBoost. Then, plot them using sns.regplot. If the points are annoying, set scatter = False. What are their R2?"
   ]
  },
  {
   "cell_type": "code",
   "execution_count": null,
   "id": "c7d49086-4b2b-4543-9dfc-b5f8f5488646",
   "metadata": {},
   "outputs": [],
   "source": [
    "# Import necessary libraries\n",
    "from catboost import CatBoostRegressor\n",
    "from sklearn.datasets import fetch_california_housing\n",
    "from sklearn.model_selection import train_test_split\n",
    "from sklearn.metrics import mean_squared_error\n",
    "import pandas as pd\n",
    "\n",
    "# Load the California housing dataset\n",
    "data = fetch_california_housing()\n",
    "X = pd.DataFrame(data.data, columns=data.feature_names)\n",
    "y = data.target\n",
    "\n"
   ]
  },
  {
   "cell_type": "code",
   "execution_count": null,
   "id": "1dd3eb93-2f9e-4945-afe7-c695c868b1f0",
   "metadata": {},
   "outputs": [],
   "source": []
  },
  {
   "cell_type": "code",
   "execution_count": null,
   "id": "ba44ad5a-f797-4768-ad95-36a410180eaa",
   "metadata": {},
   "outputs": [],
   "source": []
  },
  {
   "cell_type": "code",
   "execution_count": null,
   "id": "972d7d61",
   "metadata": {},
   "outputs": [],
   "source": []
  },
  {
   "cell_type": "code",
   "execution_count": null,
   "id": "4cf0f6d1",
   "metadata": {},
   "outputs": [],
   "source": []
  },
  {
   "cell_type": "code",
   "execution_count": null,
   "id": "5eadb046",
   "metadata": {},
   "outputs": [],
   "source": []
  }
 ],
 "metadata": {
  "kernelspec": {
   "display_name": "Python 3 (ipykernel)",
   "language": "python",
   "name": "python3"
  },
  "language_info": {
   "codemirror_mode": {
    "name": "ipython",
    "version": 3
   },
   "file_extension": ".py",
   "mimetype": "text/x-python",
   "name": "python",
   "nbconvert_exporter": "python",
   "pygments_lexer": "ipython3",
   "version": "3.10.18"
  }
 },
 "nbformat": 4,
 "nbformat_minor": 5
}
