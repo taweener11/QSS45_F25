{
 "cells": [
  {
   "cell_type": "markdown",
   "id": "c5206f0e",
   "metadata": {},
   "source": [
    "# Linear Algebra"
   ]
  },
  {
   "cell_type": "markdown",
   "id": "1410cb43",
   "metadata": {},
   "source": [
    "In this notebook, you will:\n",
    "\n",
    "* Perform linear algebra operations using NumPy.\n",
    "* Compare the efficiency of different approaches (for loops, apply, NumPy primitives) for vectorized operations.\n",
    "* Use timing functions to measure the performance of each approach."
   ]
  },
  {
   "cell_type": "code",
   "execution_count": 2,
   "id": "18d4aa5f",
   "metadata": {},
   "outputs": [],
   "source": [
    "import numpy as np\n",
    "import pandas as pd\n",
    "import time\n",
    "import seaborn as sns\n",
    "import matplotlib.pyplot as plt"
   ]
  },
  {
   "cell_type": "markdown",
   "id": "28ec17f4",
   "metadata": {},
   "source": [
    "Addition, scalar multiplication, and multiplication"
   ]
  },
  {
   "cell_type": "code",
   "execution_count": 4,
   "id": "2bc811dc",
   "metadata": {},
   "outputs": [
    {
     "data": {
      "text/plain": [
       "array([[ 1,  2,  3,  4],\n",
       "       [ 5,  6,  7,  8],\n",
       "       [ 9, 10, 11, 12]])"
      ]
     },
     "execution_count": 4,
     "metadata": {},
     "output_type": "execute_result"
    }
   ],
   "source": [
    "arr = np.arange(1, 13)\n",
    "\n",
    "reshaped_matrix = arr.reshape(3, 4)\n",
    "\n",
    "reshaped_matrix"
   ]
  },
  {
   "cell_type": "code",
   "execution_count": 19,
   "id": "578443e7",
   "metadata": {},
   "outputs": [
    {
     "name": "stdout",
     "output_type": "stream",
     "text": [
      "Original array (int):\n",
      "[1 0 3 5]\n",
      "\n",
      "Array cast to float:\n",
      "[1. 0. 3. 5.]\n",
      "\n",
      "Array cast to boolean:\n",
      "[ True False  True  True]\n"
     ]
    }
   ],
   "source": [
    "int_array = np.array([1, 0, 3, 5])\n",
    "\n",
    "float_array = int_array.astype(float)\n",
    "\n",
    "bool_array = int_array.astype(bool)\n",
    "\n",
    "print(\"Original array (int):\")\n",
    "print(int_array)\n",
    "\n",
    "print(\"\\nArray cast to float:\")\n",
    "print(float_array)\n",
    "\n",
    "\n",
    "print(\"\\nArray cast to boolean:\") # when cast to boolean, everything > 1 is true, info loss\n",
    "print(bool_array)"
   ]
  },
  {
   "cell_type": "code",
   "execution_count": 7,
   "id": "9be35aff-73de-4cc3-8da5-cc29f35eb2ec",
   "metadata": {},
   "outputs": [
    {
     "data": {
      "text/plain": [
       "array([1, 0, 1, 1])"
      ]
     },
     "execution_count": 7,
     "metadata": {},
     "output_type": "execute_result"
    }
   ],
   "source": [
    "bool_array.astype(int) # messing it up!"
   ]
  },
  {
   "cell_type": "code",
   "execution_count": 21,
   "id": "470923f4-5a0e-45a0-941c-1be4ce0ebf3e",
   "metadata": {},
   "outputs": [
    {
     "data": {
      "text/plain": [
       "dtype('int64')"
      ]
     },
     "execution_count": 21,
     "metadata": {},
     "output_type": "execute_result"
    }
   ],
   "source": [
    "#int_array.nbytes\n",
    "int_array.dtype"
   ]
  },
  {
   "cell_type": "code",
   "execution_count": 15,
   "id": "24eb431b",
   "metadata": {},
   "outputs": [
    {
     "data": {
      "text/plain": [
       "8"
      ]
     },
     "execution_count": 15,
     "metadata": {},
     "output_type": "execute_result"
    }
   ],
   "source": [
    "int_array = np.array([1, 0, 3, 5]).astype(np.int16)\n",
    "int_array.nbytes # how large something is \n",
    "# int_array.dtype"
   ]
  },
  {
   "cell_type": "code",
   "execution_count": 22,
   "id": "c051ce0f",
   "metadata": {},
   "outputs": [
    {
     "name": "stdout",
     "output_type": "stream",
     "text": [
      "Matrix multiplication result (A x B):\n",
      "[[14]\n",
      " [32]\n",
      " [50]]\n",
      "\n",
      "Transpose of matrix A:\n",
      "[[1 4 7]\n",
      " [2 5 8]\n",
      " [3 6 9]]\n"
     ]
    }
   ],
   "source": [
    "A = np.array([[1, 2, 3], \n",
    "              [4, 5, 6], \n",
    "              [7, 8, 9]])\n",
    "\n",
    "B = np.array([[1], [2], [3]])\n",
    "\n",
    "# Matrix multiplication using NumPy\n",
    "result = np.dot(A, B)\n",
    "print(\"Matrix multiplication result (A x B):\")\n",
    "print(result)\n",
    "\n",
    "# Transpose of a matrix\n",
    "A_transpose = A.T\n",
    "print(\"\\nTranspose of matrix A:\")\n",
    "print(A_transpose)"
   ]
  },
  {
   "cell_type": "code",
   "execution_count": 27,
   "id": "1bd07c61-256d-42a1-be40-3754527cd198",
   "metadata": {},
   "outputs": [
    {
     "data": {
      "text/plain": [
       "array([14, 32, 50])"
      ]
     },
     "execution_count": 27,
     "metadata": {},
     "output_type": "execute_result"
    }
   ],
   "source": [
    "np.dot(A, B).T.squeeze() # 1D??? \n",
    "# np.dot(A, B).T"
   ]
  },
  {
   "cell_type": "markdown",
   "id": "6b3d1442",
   "metadata": {},
   "source": [
    "## Below find a collection of useful expressions.\n",
    "(Won't go over, test on own time)"
   ]
  },
  {
   "cell_type": "code",
   "execution_count": 6,
   "id": "2fa8911a",
   "metadata": {},
   "outputs": [
    {
     "name": "stdout",
     "output_type": "stream",
     "text": [
      "1D array: [1 2 3 4 5]\n",
      "2D array:\n",
      " [[1 2 3]\n",
      " [4 5 6]\n",
      " [7 8 9]]\n"
     ]
    }
   ],
   "source": [
    "# 1. Create NumPy Arrays\n",
    "# Create a 1D array\n",
    "array_1d = np.array([1, 2, 3, 4, 5])\n",
    "print(\"1D array:\", array_1d)\n",
    "\n",
    "# Create a 2D array (matrix)\n",
    "array_2d = np.array([[1, 2, 3], [4, 5, 6], [7, 8, 9]])\n",
    "print(\"2D array:\\n\", array_2d)"
   ]
  },
  {
   "cell_type": "code",
   "execution_count": 7,
   "id": "9245d98d",
   "metadata": {},
   "outputs": [
    {
     "name": "stdout",
     "output_type": "stream",
     "text": [
      "Array after addition: [3 4 5 6 7]\n",
      "Array after multiplication: [ 3  6  9 12 15]\n"
     ]
    }
   ],
   "source": [
    "# 2. Basic Array Operations\n",
    "# Element-wise addition, subtraction, multiplication, and division\n",
    "array_sum = array_1d + 2  # Add 2 to each element\n",
    "array_mul = array_1d * 3  # Multiply each element by 3\n",
    "print(\"Array after addition:\", array_sum)\n",
    "print(\"Array after multiplication:\", array_mul)"
   ]
  },
  {
   "cell_type": "code",
   "execution_count": 8,
   "id": "6507a7d2",
   "metadata": {},
   "outputs": [
    {
     "name": "stdout",
     "output_type": "stream",
     "text": [
      "Matrix A:\n",
      " [[1 2]\n",
      " [3 4]]\n",
      "Matrix B:\n",
      " [[5 6]\n",
      " [7 8]]\n",
      "Matrix multiplication (A dot B):\n",
      " [[19 22]\n",
      " [43 50]]\n"
     ]
    }
   ],
   "source": [
    "# 3. Matrix Multiplication\n",
    "matrix_a = np.array([[1, 2], [3, 4]])\n",
    "matrix_b = np.array([[5, 6], [7, 8]])\n",
    "\n",
    "matrix_mul = np.dot(matrix_a, matrix_b)  # Matrix multiplication using dot product\n",
    "print(\"Matrix A:\\n\", matrix_a)\n",
    "print(\"Matrix B:\\n\", matrix_b)\n",
    "print(\"Matrix multiplication (A dot B):\\n\", matrix_mul)"
   ]
  },
  {
   "cell_type": "code",
   "execution_count": 9,
   "id": "1695e225",
   "metadata": {},
   "outputs": [
    {
     "name": "stdout",
     "output_type": "stream",
     "text": [
      "First row of 2D array: [1 2 3]\n",
      "First column of 2D array: [1 4 7]\n",
      "Element at position (1,1): 5\n"
     ]
    }
   ],
   "source": [
    "# 4. Array Slicing and Indexing\n",
    "# Access specific rows, columns, or elements\n",
    "print(\"First row of 2D array:\", array_2d[0])       # First row\n",
    "print(\"First column of 2D array:\", array_2d[:, 0]) # First column\n",
    "print(\"Element at position (1,1):\", array_2d[1, 1])  # Element at (1,1)"
   ]
  },
  {
   "cell_type": "code",
   "execution_count": 10,
   "id": "f00b606b",
   "metadata": {},
   "outputs": [
    {
     "name": "stdout",
     "output_type": "stream",
     "text": [
      "Broadcasting result:\n",
      " [[5 6 7]\n",
      " [6 7 8]\n",
      " [7 8 9]]\n"
     ]
    }
   ],
   "source": [
    "# 5. Broadcasting \n",
    "# Apply operations on arrays of different shapes\n",
    "array_1d_broad = np.array([1, 2, 3])\n",
    "array_2d_broad = np.array([[4], [5], [6]])\n",
    "\n",
    "broadcast_result = array_1d_broad + array_2d_broad\n",
    "print(\"Broadcasting result:\\n\", broadcast_result)"
   ]
  },
  {
   "cell_type": "code",
   "execution_count": null,
   "id": "d9e3cc7c",
   "metadata": {},
   "outputs": [],
   "source": []
  },
  {
   "cell_type": "markdown",
   "id": "a3b8450f",
   "metadata": {},
   "source": [
    "# Sampling\n",
    "Won't go over, look over your own time"
   ]
  },
  {
   "cell_type": "code",
   "execution_count": 29,
   "id": "47a98976",
   "metadata": {},
   "outputs": [
    {
     "name": "stdout",
     "output_type": "stream",
     "text": [
      "Random numbers from uniform distribution: [0.06851987 0.96514123 0.31625615 0.52285809 0.79103916]\n",
      "Random numbers from normal distribution: [-0.67062195 -0.53125288 -0.22765188 -0.22247777  0.34584589]\n",
      "Random integers between 10 and 100: [86 14 61 88 66]\n",
      "Random sample from array: [50 10 40]\n",
      "Random permutation of the array: [50 10 30 20 40]\n"
     ]
    }
   ],
   "source": [
    "# Uniform Distribution\n",
    "random_uniform = np.random.rand(5)  # 5 random numbers between 0 and 1\n",
    "print(\"Random numbers from uniform distribution:\", random_uniform)\n",
    "\n",
    "# Normal distribution (mean=0, std=1)\n",
    "random_normal = np.random.randn(5)  # 5 random numbers from a standard normal distribution\n",
    "print(\"Random numbers from normal distribution:\", random_normal)\n",
    "\n",
    "# Random integers with range\n",
    "random_integers = np.random.randint(10, 100, size=5)  # 5 random integers between 10 and 100\n",
    "print(\"Random integers between 10 and 100:\", random_integers)\n",
    "\n",
    "# Random sampling from a 1D array\n",
    "array = np.array([10, 20, 30, 40, 50])\n",
    "random_sample = np.random.choice(array, size=3, replace=False)  # Random sample of 3 elements without replacement\n",
    "print(\"Random sample from array:\", random_sample)\n",
    "\n",
    "# 5. Generating random permutations of arrays\n",
    "random_permutation = np.random.permutation(array)  # Generate a random permutation of the array\n",
    "print(\"Random permutation of the array:\", random_permutation)"
   ]
  },
  {
   "cell_type": "code",
   "execution_count": null,
   "id": "443a3498",
   "metadata": {},
   "outputs": [],
   "source": []
  },
  {
   "cell_type": "code",
   "execution_count": null,
   "id": "732c64f4",
   "metadata": {},
   "outputs": [],
   "source": []
  },
  {
   "cell_type": "markdown",
   "id": "6ea42cd0",
   "metadata": {},
   "source": [
    "# Benchmarking Time"
   ]
  },
  {
   "cell_type": "code",
   "execution_count": 33,
   "id": "e62996a8-bdb0-4326-ad17-c63f2d0cd7ac",
   "metadata": {},
   "outputs": [
    {
     "data": {
      "text/plain": [
       "array([0.31459946, 0.58625978, 0.54552783, ..., 0.31253656, 0.92447401,\n",
       "       0.69411501])"
      ]
     },
     "execution_count": 33,
     "metadata": {},
     "output_type": "execute_result"
    }
   ],
   "source": [
    "data = np.random.rand(1000000)\n",
    "data"
   ]
  },
  {
   "cell_type": "code",
   "execution_count": 37,
   "id": "73b03f1c",
   "metadata": {},
   "outputs": [
    {
     "name": "stdout",
     "output_type": "stream",
     "text": [
      "Time taken using a for loop: 0.1283 seconds\n"
     ]
    }
   ],
   "source": [
    "data = np.random.rand(1000000)\n",
    "\n",
    "start_time = time.time()\n",
    "\n",
    "squared_for_loop = []\n",
    "for x in data:\n",
    "    squared_for_loop.append(x ** 2)\n",
    "\n",
    "end_time = time.time()\n",
    "for_loop_time = end_time - start_time\n",
    "\n",
    "print(f\"Time taken using a for loop: {for_loop_time:.4f} seconds\")"
   ]
  },
  {
   "cell_type": "code",
   "execution_count": 38,
   "id": "da71eea4-2834-4e58-8ac6-e3e264e42b31",
   "metadata": {},
   "outputs": [
    {
     "data": {
      "text/html": [
       "<div>\n",
       "<style scoped>\n",
       "    .dataframe tbody tr th:only-of-type {\n",
       "        vertical-align: middle;\n",
       "    }\n",
       "\n",
       "    .dataframe tbody tr th {\n",
       "        vertical-align: top;\n",
       "    }\n",
       "\n",
       "    .dataframe thead th {\n",
       "        text-align: right;\n",
       "    }\n",
       "</style>\n",
       "<table border=\"1\" class=\"dataframe\">\n",
       "  <thead>\n",
       "    <tr style=\"text-align: right;\">\n",
       "      <th></th>\n",
       "      <th>Values</th>\n",
       "    </tr>\n",
       "  </thead>\n",
       "  <tbody>\n",
       "    <tr>\n",
       "      <th>0</th>\n",
       "      <td>0.316289</td>\n",
       "    </tr>\n",
       "    <tr>\n",
       "      <th>1</th>\n",
       "      <td>0.254298</td>\n",
       "    </tr>\n",
       "    <tr>\n",
       "      <th>2</th>\n",
       "      <td>0.081076</td>\n",
       "    </tr>\n",
       "    <tr>\n",
       "      <th>3</th>\n",
       "      <td>0.191004</td>\n",
       "    </tr>\n",
       "    <tr>\n",
       "      <th>4</th>\n",
       "      <td>0.511625</td>\n",
       "    </tr>\n",
       "    <tr>\n",
       "      <th>...</th>\n",
       "      <td>...</td>\n",
       "    </tr>\n",
       "    <tr>\n",
       "      <th>999995</th>\n",
       "      <td>0.084672</td>\n",
       "    </tr>\n",
       "    <tr>\n",
       "      <th>999996</th>\n",
       "      <td>0.827417</td>\n",
       "    </tr>\n",
       "    <tr>\n",
       "      <th>999997</th>\n",
       "      <td>0.208709</td>\n",
       "    </tr>\n",
       "    <tr>\n",
       "      <th>999998</th>\n",
       "      <td>0.199656</td>\n",
       "    </tr>\n",
       "    <tr>\n",
       "      <th>999999</th>\n",
       "      <td>0.416995</td>\n",
       "    </tr>\n",
       "  </tbody>\n",
       "</table>\n",
       "<p>1000000 rows × 1 columns</p>\n",
       "</div>"
      ],
      "text/plain": [
       "          Values\n",
       "0       0.316289\n",
       "1       0.254298\n",
       "2       0.081076\n",
       "3       0.191004\n",
       "4       0.511625\n",
       "...          ...\n",
       "999995  0.084672\n",
       "999996  0.827417\n",
       "999997  0.208709\n",
       "999998  0.199656\n",
       "999999  0.416995\n",
       "\n",
       "[1000000 rows x 1 columns]"
      ]
     },
     "execution_count": 38,
     "metadata": {},
     "output_type": "execute_result"
    }
   ],
   "source": [
    "df = pd.DataFrame(data, columns=['Values'])\n",
    "df"
   ]
  },
  {
   "cell_type": "code",
   "execution_count": 36,
   "id": "7183c6ce",
   "metadata": {},
   "outputs": [
    {
     "name": "stdout",
     "output_type": "stream",
     "text": [
      "Time taken using Pandas apply(): 0.1755 seconds\n"
     ]
    }
   ],
   "source": [
    "df = pd.DataFrame(data, columns=['Values'])\n",
    "\n",
    "start_time = time.time()\n",
    "\n",
    "squared_apply = df['Values'].apply(lambda x: x ** 2)\n",
    "\n",
    "end_time = time.time()\n",
    "apply_time = end_time - start_time\n",
    "\n",
    "print(f\"Time taken using Pandas apply(): {apply_time:.4f} seconds\")"
   ]
  },
  {
   "cell_type": "code",
   "execution_count": 39,
   "id": "88f5e706",
   "metadata": {},
   "outputs": [
    {
     "name": "stdout",
     "output_type": "stream",
     "text": [
      "Time taken using NumPy vectorization: 0.0105 seconds\n"
     ]
    }
   ],
   "source": [
    "start_time = time.time()\n",
    "\n",
    "# Calculate the square of each element using NumPy vectorized operation\n",
    "squared_numpy = np.square(data) # a primitive function super close to the CPU, x100 faster \n",
    "\n",
    "end_time = time.time()\n",
    "numpy_time = end_time - start_time\n",
    "\n",
    "print(f\"Time taken using NumPy vectorization: {numpy_time:.4f} seconds\")"
   ]
  },
  {
   "cell_type": "markdown",
   "id": "a3f02804",
   "metadata": {},
   "source": [
    "# Your turn | Part 1"
   ]
  },
  {
   "cell_type": "markdown",
   "id": "4fdafa2c",
   "metadata": {},
   "source": [
    "#### Using np.random.rand, create a 1000 x 1000 matrix, and square every element using a forloop, pandas, and numpy. Benchmark its speed."
   ]
  },
  {
   "cell_type": "code",
   "execution_count": 7,
   "id": "01ee902a",
   "metadata": {},
   "outputs": [
    {
     "data": {
      "text/plain": [
       "(1000, 1000)"
      ]
     },
     "execution_count": 7,
     "metadata": {},
     "output_type": "execute_result"
    }
   ],
   "source": [
    "# your code (there should be copying and pasting here)\n",
    "\n",
    "my_matrix = np.random.rand(1000000)\n",
    "reshaped_matrix = my_matrix.reshape(1000, 1000)\n",
    "reshaped_matrix.shape"
   ]
  },
  {
   "cell_type": "code",
   "execution_count": 8,
   "id": "9513d332-ef4f-48d9-bdf7-2137446799db",
   "metadata": {},
   "outputs": [
    {
     "name": "stdout",
     "output_type": "stream",
     "text": [
      "Part 1 - Time taken using a for loop: 0.0145 seconds\n"
     ]
    }
   ],
   "source": [
    "# for loop \n",
    "start_time = time.time()\n",
    "\n",
    "squared_for_loop = []\n",
    "for x in reshaped_matrix:\n",
    "    squared_for_loop.append(x ** 2)\n",
    "\n",
    "end_time = time.time()\n",
    "for_loop_time = end_time - start_time\n",
    "\n",
    "print(f\"Part 1 - Time taken using a for loop: {for_loop_time:.4f} seconds\")"
   ]
  },
  {
   "cell_type": "code",
   "execution_count": 9,
   "id": "d4c4bcbd-99ef-400f-81ce-0df212da8817",
   "metadata": {},
   "outputs": [
    {
     "name": "stdout",
     "output_type": "stream",
     "text": [
      "Part 1 - Time taken using Pandas apply(): 0.0792 seconds\n"
     ]
    }
   ],
   "source": [
    "# pandas \n",
    "df = pd.DataFrame(reshaped_matrix)\n",
    "df\n",
    "\n",
    "start_time = time.time()\n",
    "\n",
    "squared_apply = df[0:1000].apply(lambda x: x ** 2)\n",
    "\n",
    "end_time = time.time()\n",
    "apply_time = end_time - start_time\n",
    "\n",
    "print(f\"Part 1 - Time taken using Pandas apply(): {apply_time:.4f} seconds\")"
   ]
  },
  {
   "cell_type": "code",
   "execution_count": 10,
   "id": "16aa914b-9d00-4177-b424-ec933f5a162c",
   "metadata": {},
   "outputs": [
    {
     "name": "stdout",
     "output_type": "stream",
     "text": [
      "Part 1 - Time taken using NumPy vectorization: 0.0044 seconds\n"
     ]
    }
   ],
   "source": [
    "# numpy\n",
    "start_time = time.time()\n",
    "\n",
    "# Calculate the square of each element using NumPy vectorized operation\n",
    "squared_numpy = np.square(reshaped_matrix) # a primitive function super close to the CPU, x100 faster \n",
    "\n",
    "end_time = time.time()\n",
    "numpy_time = end_time - start_time\n",
    "\n",
    "print(f\"Part 1 - Time taken using NumPy vectorization: {numpy_time:.4f} seconds\")"
   ]
  },
  {
   "cell_type": "markdown",
   "id": "db12d482",
   "metadata": {},
   "source": [
    "#### Using the code above, write a function that creates two random matrix (i.e. A and B) of size S x S and multiplies them. "
   ]
  },
  {
   "cell_type": "code",
   "execution_count": 50,
   "id": "d0d53b63",
   "metadata": {},
   "outputs": [],
   "source": [
    "import numpy as np"
   ]
  },
  {
   "cell_type": "code",
   "execution_count": 68,
   "id": "f2f720ac",
   "metadata": {},
   "outputs": [
    {
     "name": "stdout",
     "output_type": "stream",
     "text": [
      "Random integers between 10 and 100: [96 71 47 10]\n"
     ]
    },
    {
     "data": {
      "text/plain": [
       "array([[96, 71],\n",
       "       [47, 10]])"
      ]
     },
     "execution_count": 68,
     "metadata": {},
     "output_type": "execute_result"
    }
   ],
   "source": [
    "# your code\n",
    "\n",
    "# Random size \n",
    "# s = np.random.randint(1, 10)\n",
    "s = 4\n",
    "s\n",
    "\n",
    "# Random integers with range\n",
    "random_integers = np.random.randint(10, 100, size=s)  # s random integers between 10 and 100\n",
    "print(\"Random integers between 10 and 100:\", random_integers)\n",
    "\n",
    "# Random sampling from a 1D array\n",
    "# array = np.array(random_integers)\n",
    "my_matrix = random_integers.reshape(2,2)\n",
    "my_matrix * "
   ]
  },
  {
   "cell_type": "code",
   "execution_count": 37,
   "id": "944b314b-bfa7-470b-aa39-75b2cfd96be8",
   "metadata": {},
   "outputs": [],
   "source": [
    "def two_rand_matrix(s): \n",
    "    A_random_integers = np.random.randint(10, 100, size=s**2)  # s^2 random integers between 10 and 100\n",
    "    B_random_integers = np.random.randint(10, 100, size=s**2)  # s^2 random integers between 10 and 100\n",
    "    # matrix_a = np.random.rand(s, s)\n",
    "    \n",
    "    matrix_a = A_random_integers.reshape(s,s)\n",
    "    matrix_b = B_random_integers.reshape(s,s)\n",
    "\n",
    "    matrix_mul = np.dot(matrix_a, matrix_b) # for multiplicaiton \n",
    "    # also measure time??\n",
    "\n",
    "    return matrix_mul "
   ]
  },
  {
   "cell_type": "code",
   "execution_count": 43,
   "id": "53b912ee-586f-414d-839d-42f516c26a55",
   "metadata": {},
   "outputs": [
    {
     "name": "stdout",
     "output_type": "stream",
     "text": [
      "[[20605  8708 19398 11180]\n",
      " [15503  6122 17520  7690]\n",
      " [11954  4872 11806  6338]\n",
      " [12880  7453 10716  7990]]\n",
      "[[22751 23309 11386 15964 13458 16580]\n",
      " [33001 35224 16318 23628 21127 26655]\n",
      " [27969 26027 10551 15375 14644 19340]\n",
      " [14004 18131  9989 11140 10737  8196]\n",
      " [21441 25766 14017 15504 17458 15352]\n",
      " [34617 40025 19470 24828 26472 29110]]\n"
     ]
    }
   ],
   "source": [
    "print(two_rand_matrix(4))\n",
    "print(two_rand_matrix(6))"
   ]
  },
  {
   "cell_type": "markdown",
   "id": "cac1f9c6",
   "metadata": {},
   "source": [
    "What happens when you make the size 1000? 1,000,000? 100,000,000? "
   ]
  },
  {
   "cell_type": "code",
   "execution_count": 42,
   "id": "88ac6096",
   "metadata": {},
   "outputs": [
    {
     "name": "stdout",
     "output_type": "stream",
     "text": [
      "[[2898159 2956825 2936945 ... 2882790 2951395 2972430]\n",
      " [2998448 3004750 3030252 ... 2953882 3000921 3065200]\n",
      " [2992243 3027214 3023769 ... 2920521 3040712 3059255]\n",
      " ...\n",
      " [2935783 2935638 2907556 ... 2849830 2957450 3022068]\n",
      " [2958510 2958385 2960022 ... 2899670 2952932 2992727]\n",
      " [2959910 2895081 2941991 ... 2901828 2954996 3015086]]\n"
     ]
    }
   ],
   "source": [
    "print(two_rand_matrix(1000))"
   ]
  },
  {
   "cell_type": "code",
   "execution_count": null,
   "id": "7d78dd18-cb03-4bd3-9f95-e3c50039c925",
   "metadata": {},
   "outputs": [],
   "source": [
    "# print(two_rand_matrix(1000000)) # not even attempting the other one "
   ]
  },
  {
   "cell_type": "markdown",
   "id": "d0adf784",
   "metadata": {},
   "source": [
    "### Computing Distances\n",
    "Write a numpy-based function that calculates a) the Euclidean distance between two points and b)the Manhattan distance. No cheating and using built-in functions."
   ]
  },
  {
   "cell_type": "code",
   "execution_count": 11,
   "id": "650c3296",
   "metadata": {},
   "outputs": [],
   "source": [
    "# Use these points to test\n",
    "point1 = np.array([1, 2])\n",
    "point2 = np.array([4, 6])"
   ]
  },
  {
   "cell_type": "code",
   "execution_count": 23,
   "id": "573ff267",
   "metadata": {},
   "outputs": [],
   "source": [
    "# your code for Euclidean\n",
    "def euclidean_distance(point1, point2):\n",
    "    x1 = point1[0] \n",
    "    y1 = point1[1] \n",
    "    x2 = point2[0] \n",
    "    y2 = point2[1] \n",
    "\n",
    "    euc_distance = np.sqrt((x2 - x1)**2 + (y2 - y1)**2)\n",
    "\n",
    "    return euc_distance \n"
   ]
  },
  {
   "cell_type": "code",
   "execution_count": 49,
   "id": "f8e132a5-346a-4d6b-aa4b-6c26b44acb98",
   "metadata": {},
   "outputs": [],
   "source": [
    "def new_euclidean_distance(p1, p2):\n",
    "    return np.sqrt(np.sum(p1 - p2)**2)\n",
    "# how to fix?? "
   ]
  },
  {
   "cell_type": "code",
   "execution_count": 50,
   "id": "8df34c4c-75ce-45d5-b686-492588cdb840",
   "metadata": {},
   "outputs": [
    {
     "name": "stdout",
     "output_type": "stream",
     "text": [
      "5.0\n",
      "5.0\n",
      "7.0\n"
     ]
    }
   ],
   "source": [
    "print(euclidean_distance(point1, point2))\n",
    "print(euclidean_distance([0, 0], [4, 3]))\n",
    "print(new_euclidean_distance(point1, point2))"
   ]
  },
  {
   "cell_type": "code",
   "execution_count": 51,
   "id": "78037917",
   "metadata": {},
   "outputs": [],
   "source": [
    "# your code for Manhattan\n",
    "def manhattan_distance(point1, point2):\n",
    "    x1 = point1[0] \n",
    "    y1 = point1[1] \n",
    "    x2 = point2[0] \n",
    "    y2 = point2[1] \n",
    "\n",
    "    man_distance = np.sum(np.abs(x2 - x1) + np.abs(y2 - y1)) # add absolute value \n",
    "\n",
    "    return man_distance \n"
   ]
  },
  {
   "cell_type": "code",
   "execution_count": 52,
   "id": "836e3c0a-ef18-4cfe-b4c5-53e0615153d1",
   "metadata": {},
   "outputs": [
    {
     "name": "stdout",
     "output_type": "stream",
     "text": [
      "7\n",
      "7\n"
     ]
    }
   ],
   "source": [
    "print(manhattan_distance(point1, point2))\n",
    "print(manhattan_distance([0, 0], [4, 3]))"
   ]
  },
  {
   "cell_type": "code",
   "execution_count": 27,
   "id": "328f804e",
   "metadata": {},
   "outputs": [],
   "source": [
    "# your code for cosine similarity\n",
    "def cosine_similarity(point1, point2):\n",
    "    x1 = point1[0] \n",
    "    y1 = point1[1] \n",
    "    x2 = point2[0] \n",
    "    y2 = point2[1] \n",
    "\n",
    "    dot = np.dot(point1, point2)\n",
    "    euc = euclidean_distance(point1, point2)\n",
    "\n",
    "    cos = dot/euc\n",
    "\n",
    "    return cos \n"
   ]
  },
  {
   "cell_type": "code",
   "execution_count": 61,
   "id": "837a3c14-73f5-4b3a-9889-a50d570f876e",
   "metadata": {},
   "outputs": [],
   "source": [
    "def new_cosine_similarity(x, y):\n",
    "    similarity = np.dot(x, y) / (np.linalg.norm(x) * np.linalg.norm(y))\n",
    "    return similarity "
   ]
  },
  {
   "cell_type": "code",
   "execution_count": 62,
   "id": "74196410-111d-4e0d-b063-b1961f657de0",
   "metadata": {},
   "outputs": [
    {
     "name": "stdout",
     "output_type": "stream",
     "text": [
      "3.2\n",
      "0.0\n",
      "0.9922778767136677\n",
      "nan\n"
     ]
    },
    {
     "name": "stderr",
     "output_type": "stream",
     "text": [
      "/var/folders/dz/qjs_l1m15gqcnlxw27n5klkc0000gn/T/ipykernel_37656/1529731822.py:2: RuntimeWarning: invalid value encountered in scalar divide\n",
      "  similarity = np.dot(x, y) / (np.linalg.norm(x) * np.linalg.norm(y))\n"
     ]
    }
   ],
   "source": [
    "print(cosine_similarity(point1, point2))\n",
    "print(cosine_similarity([0, 0], [4, 3]))\n",
    "\n",
    "print(new_cosine_similarity(point1, point2))\n",
    "print(new_cosine_similarity([0, 0], [4, 3]))"
   ]
  },
  {
   "cell_type": "code",
   "execution_count": 64,
   "id": "70aa6cac-54ba-4305-a0d7-668abe98306e",
   "metadata": {},
   "outputs": [
    {
     "data": {
      "text/plain": [
       "5.0"
      ]
     },
     "execution_count": 64,
     "metadata": {},
     "output_type": "execute_result"
    }
   ],
   "source": [
    "euclid = lambda p1,p2: np.sqrt(np.sum(np.square(p1 - p2)))\n",
    "euclid(point1, point2)"
   ]
  },
  {
   "cell_type": "markdown",
   "id": "79d1b24f",
   "metadata": {},
   "source": [
    "# Part Two | Understanding regression\n",
    "In this section we will simulate regression data, and then inverse calculate the betas. (This may stretch to the next class). The goal is to get you thinking in matrices instead of numbers."
   ]
  },
  {
   "cell_type": "markdown",
   "id": "f532d6dd",
   "metadata": {},
   "source": [
    "$y = \\beta_0 + \\beta_1 x + \\epsilon$ where $\\epsilon \\in N(0,10)$"
   ]
  },
  {
   "cell_type": "markdown",
   "id": "c5fe8819",
   "metadata": {},
   "source": [
    "Generate a thousand points based on this model, then make a scatter plot using plt.scatter or sns.regplot"
   ]
  },
  {
   "cell_type": "code",
   "execution_count": 29,
   "id": "f34d3ed2",
   "metadata": {},
   "outputs": [],
   "source": [
    "# True parameters of the linear model\n",
    "beta_0 = 5   # Intercept\n",
    "beta_1 = 3   # Slope"
   ]
  },
  {
   "cell_type": "code",
   "execution_count": 81,
   "id": "123812d2",
   "metadata": {},
   "outputs": [
    {
     "data": {
      "text/plain": [
       "<matplotlib.collections.PathCollection at 0x118a7ea40>"
      ]
     },
     "execution_count": 81,
     "metadata": {},
     "output_type": "execute_result"
    },
    {
     "data": {
      "image/png": "[encoded data removed]",
      "text/plain": [
       "<Figure size 640x480 with 1 Axes>"
      ]
     },
     "metadata": {},
     "output_type": "display_data"
    }
   ],
   "source": [
    "# your code\n",
    "\n",
    "### HERBERT \n",
    "\n",
    "num_samples = 100 \n",
    "x = np.random.rand(num_samples)\n",
    "y = beta_0 + beta_1*x # perfect line, no noise \n",
    "\n",
    "e = np.random.randn(num_samples)\n",
    "y = beta_0 + beta_1*x + e # perfect line, no noise \n",
    "\n",
    "plt.scatter(x,y)"
   ]
  },
  {
   "cell_type": "code",
   "execution_count": 76,
   "id": "9ff1ecb1",
   "metadata": {},
   "outputs": [],
   "source": [
    "random_integers = np.random.randint(10, 100, size=1000) \n",
    "\n",
    "points = [] \n",
    "for i in range(1000): \n",
    "    random_error = np.random.randn(1000) \n",
    "    y = beta_0 + beta_1*random_integers[i] + random_error \n",
    "    points.append(y)\n"
   ]
  },
  {
   "cell_type": "code",
   "execution_count": 77,
   "id": "a5c7d1af-64b8-473f-a142-786460070e1b",
   "metadata": {},
   "outputs": [
    {
     "data": {
      "text/plain": [
       "1000"
      ]
     },
     "execution_count": 77,
     "metadata": {},
     "output_type": "execute_result"
    }
   ],
   "source": [
    "len(points)"
   ]
  },
  {
   "cell_type": "code",
   "execution_count": 78,
   "id": "558d1d8a-f415-4303-8927-f243d96ede91",
   "metadata": {},
   "outputs": [
    {
     "ename": "ValueError",
     "evalue": "regplot inputs must be 1d",
     "output_type": "error",
     "traceback": [
      "\u001b[0;31m---------------------------------------------------------------------------\u001b[0m",
      "\u001b[0;31mValueError\u001b[0m                                Traceback (most recent call last)",
      "Cell \u001b[0;32mIn[78], line 2\u001b[0m\n\u001b[1;32m      1\u001b[0m \u001b[38;5;66;03m#plt.scatter(points, random_integers)\u001b[39;00m\n\u001b[0;32m----> 2\u001b[0m \u001b[43msns\u001b[49m\u001b[38;5;241;43m.\u001b[39;49m\u001b[43mregplot\u001b[49m\u001b[43m(\u001b[49m\u001b[43my\u001b[49m\u001b[38;5;241;43m=\u001b[39;49m\u001b[43mpoints\u001b[49m\u001b[43m,\u001b[49m\u001b[43m \u001b[49m\u001b[43mx\u001b[49m\u001b[38;5;241;43m=\u001b[39;49m\u001b[43mrandom_integers\u001b[49m\u001b[43m)\u001b[49m\n",
      "File \u001b[0;32m/opt/anaconda3/envs/qss20/lib/python3.10/site-packages/seaborn/regression.py:763\u001b[0m, in \u001b[0;36mregplot\u001b[0;34m(data, x, y, x_estimator, x_bins, x_ci, scatter, fit_reg, ci, n_boot, units, seed, order, logistic, lowess, robust, logx, x_partial, y_partial, truncate, dropna, x_jitter, y_jitter, label, color, marker, scatter_kws, line_kws, ax)\u001b[0m\n\u001b[1;32m    752\u001b[0m \u001b[38;5;28;01mdef\u001b[39;00m \u001b[38;5;21mregplot\u001b[39m(\n\u001b[1;32m    753\u001b[0m     data\u001b[38;5;241m=\u001b[39m\u001b[38;5;28;01mNone\u001b[39;00m, \u001b[38;5;241m*\u001b[39m, x\u001b[38;5;241m=\u001b[39m\u001b[38;5;28;01mNone\u001b[39;00m, y\u001b[38;5;241m=\u001b[39m\u001b[38;5;28;01mNone\u001b[39;00m,\n\u001b[1;32m    754\u001b[0m     x_estimator\u001b[38;5;241m=\u001b[39m\u001b[38;5;28;01mNone\u001b[39;00m, x_bins\u001b[38;5;241m=\u001b[39m\u001b[38;5;28;01mNone\u001b[39;00m, x_ci\u001b[38;5;241m=\u001b[39m\u001b[38;5;124m\"\u001b[39m\u001b[38;5;124mci\u001b[39m\u001b[38;5;124m\"\u001b[39m,\n\u001b[0;32m   (...)\u001b[0m\n\u001b[1;32m    760\u001b[0m     scatter_kws\u001b[38;5;241m=\u001b[39m\u001b[38;5;28;01mNone\u001b[39;00m, line_kws\u001b[38;5;241m=\u001b[39m\u001b[38;5;28;01mNone\u001b[39;00m, ax\u001b[38;5;241m=\u001b[39m\u001b[38;5;28;01mNone\u001b[39;00m\n\u001b[1;32m    761\u001b[0m ):\n\u001b[0;32m--> 763\u001b[0m     plotter \u001b[38;5;241m=\u001b[39m \u001b[43m_RegressionPlotter\u001b[49m\u001b[43m(\u001b[49m\u001b[43mx\u001b[49m\u001b[43m,\u001b[49m\u001b[43m \u001b[49m\u001b[43my\u001b[49m\u001b[43m,\u001b[49m\u001b[43m \u001b[49m\u001b[43mdata\u001b[49m\u001b[43m,\u001b[49m\u001b[43m \u001b[49m\u001b[43mx_estimator\u001b[49m\u001b[43m,\u001b[49m\u001b[43m \u001b[49m\u001b[43mx_bins\u001b[49m\u001b[43m,\u001b[49m\u001b[43m \u001b[49m\u001b[43mx_ci\u001b[49m\u001b[43m,\u001b[49m\n\u001b[1;32m    764\u001b[0m \u001b[43m                                 \u001b[49m\u001b[43mscatter\u001b[49m\u001b[43m,\u001b[49m\u001b[43m \u001b[49m\u001b[43mfit_reg\u001b[49m\u001b[43m,\u001b[49m\u001b[43m \u001b[49m\u001b[43mci\u001b[49m\u001b[43m,\u001b[49m\u001b[43m \u001b[49m\u001b[43mn_boot\u001b[49m\u001b[43m,\u001b[49m\u001b[43m \u001b[49m\u001b[43munits\u001b[49m\u001b[43m,\u001b[49m\u001b[43m \u001b[49m\u001b[43mseed\u001b[49m\u001b[43m,\u001b[49m\n\u001b[1;32m    765\u001b[0m \u001b[43m                                 \u001b[49m\u001b[43morder\u001b[49m\u001b[43m,\u001b[49m\u001b[43m \u001b[49m\u001b[43mlogistic\u001b[49m\u001b[43m,\u001b[49m\u001b[43m \u001b[49m\u001b[43mlowess\u001b[49m\u001b[43m,\u001b[49m\u001b[43m \u001b[49m\u001b[43mrobust\u001b[49m\u001b[43m,\u001b[49m\u001b[43m \u001b[49m\u001b[43mlogx\u001b[49m\u001b[43m,\u001b[49m\n\u001b[1;32m    766\u001b[0m \u001b[43m                                 \u001b[49m\u001b[43mx_partial\u001b[49m\u001b[43m,\u001b[49m\u001b[43m \u001b[49m\u001b[43my_partial\u001b[49m\u001b[43m,\u001b[49m\u001b[43m \u001b[49m\u001b[43mtruncate\u001b[49m\u001b[43m,\u001b[49m\u001b[43m \u001b[49m\u001b[43mdropna\u001b[49m\u001b[43m,\u001b[49m\n\u001b[1;32m    767\u001b[0m \u001b[43m                                 \u001b[49m\u001b[43mx_jitter\u001b[49m\u001b[43m,\u001b[49m\u001b[43m \u001b[49m\u001b[43my_jitter\u001b[49m\u001b[43m,\u001b[49m\u001b[43m \u001b[49m\u001b[43mcolor\u001b[49m\u001b[43m,\u001b[49m\u001b[43m \u001b[49m\u001b[43mlabel\u001b[49m\u001b[43m)\u001b[49m\n\u001b[1;32m    769\u001b[0m     \u001b[38;5;28;01mif\u001b[39;00m ax \u001b[38;5;129;01mis\u001b[39;00m \u001b[38;5;28;01mNone\u001b[39;00m:\n\u001b[1;32m    770\u001b[0m         ax \u001b[38;5;241m=\u001b[39m plt\u001b[38;5;241m.\u001b[39mgca()\n",
      "File \u001b[0;32m/opt/anaconda3/envs/qss20/lib/python3.10/site-packages/seaborn/regression.py:107\u001b[0m, in \u001b[0;36m_RegressionPlotter.__init__\u001b[0;34m(self, x, y, data, x_estimator, x_bins, x_ci, scatter, fit_reg, ci, n_boot, units, seed, order, logistic, lowess, robust, logx, x_partial, y_partial, truncate, dropna, x_jitter, y_jitter, color, label)\u001b[0m\n\u001b[1;32m    104\u001b[0m     \u001b[38;5;28;01mraise\u001b[39;00m \u001b[38;5;167;01mValueError\u001b[39;00m(\u001b[38;5;124m\"\u001b[39m\u001b[38;5;124mMutually exclusive regression options.\u001b[39m\u001b[38;5;124m\"\u001b[39m)\n\u001b[1;32m    106\u001b[0m \u001b[38;5;66;03m# Extract the data vals from the arguments or passed dataframe\u001b[39;00m\n\u001b[0;32m--> 107\u001b[0m \u001b[38;5;28;43mself\u001b[39;49m\u001b[38;5;241;43m.\u001b[39;49m\u001b[43mestablish_variables\u001b[49m\u001b[43m(\u001b[49m\u001b[43mdata\u001b[49m\u001b[43m,\u001b[49m\u001b[43m \u001b[49m\u001b[43mx\u001b[49m\u001b[38;5;241;43m=\u001b[39;49m\u001b[43mx\u001b[49m\u001b[43m,\u001b[49m\u001b[43m \u001b[49m\u001b[43my\u001b[49m\u001b[38;5;241;43m=\u001b[39;49m\u001b[43my\u001b[49m\u001b[43m,\u001b[49m\u001b[43m \u001b[49m\u001b[43munits\u001b[49m\u001b[38;5;241;43m=\u001b[39;49m\u001b[43munits\u001b[49m\u001b[43m,\u001b[49m\n\u001b[1;32m    108\u001b[0m \u001b[43m                         \u001b[49m\u001b[43mx_partial\u001b[49m\u001b[38;5;241;43m=\u001b[39;49m\u001b[43mx_partial\u001b[49m\u001b[43m,\u001b[49m\u001b[43m \u001b[49m\u001b[43my_partial\u001b[49m\u001b[38;5;241;43m=\u001b[39;49m\u001b[43my_partial\u001b[49m\u001b[43m)\u001b[49m\n\u001b[1;32m    110\u001b[0m \u001b[38;5;66;03m# Drop null observations\u001b[39;00m\n\u001b[1;32m    111\u001b[0m \u001b[38;5;28;01mif\u001b[39;00m dropna:\n",
      "File \u001b[0;32m/opt/anaconda3/envs/qss20/lib/python3.10/site-packages/seaborn/regression.py:53\u001b[0m, in \u001b[0;36m_LinearPlotter.establish_variables\u001b[0;34m(self, data, **kws)\u001b[0m\n\u001b[1;32m     51\u001b[0m \u001b[38;5;28;01mif\u001b[39;00m np\u001b[38;5;241m.\u001b[39mndim(vector) \u001b[38;5;241m>\u001b[39m \u001b[38;5;241m1\u001b[39m:\n\u001b[1;32m     52\u001b[0m     err \u001b[38;5;241m=\u001b[39m \u001b[38;5;124m\"\u001b[39m\u001b[38;5;124mregplot inputs must be 1d\u001b[39m\u001b[38;5;124m\"\u001b[39m\n\u001b[0;32m---> 53\u001b[0m     \u001b[38;5;28;01mraise\u001b[39;00m \u001b[38;5;167;01mValueError\u001b[39;00m(err)\n\u001b[1;32m     54\u001b[0m \u001b[38;5;28msetattr\u001b[39m(\u001b[38;5;28mself\u001b[39m, var, vector)\n",
      "\u001b[0;31mValueError\u001b[0m: regplot inputs must be 1d"
     ]
    }
   ],
   "source": [
    "#plt.scatter(points, random_integers)\n",
    "sns.regplot(y=points, x=random_integers)"
   ]
  },
  {
   "cell_type": "markdown",
   "id": "1fa8afa7",
   "metadata": {},
   "source": [
    "#### Generalize this to a function that takes in n (the number of points), the slope (b1), and intercept (b0). It should return x and y."
   ]
  },
  {
   "cell_type": "code",
   "execution_count": null,
   "id": "dc5dbc3b",
   "metadata": {},
   "outputs": [],
   "source": [
    "def random_reg(n, b1, b0):"
   ]
  },
  {
   "cell_type": "markdown",
   "id": "13dcfd75",
   "metadata": {},
   "source": [
    "Inverse computation: Due to the availability of derivaties, an exact solution can be found for the $\\beta$ values. Using the following equations to calculate the beta values."
   ]
  },
  {
   "cell_type": "markdown",
   "id": "b230ac81",
   "metadata": {},
   "source": [
    "$\\beta_1 = \\frac{\\sum_{i=1}^{n} (x_i - \\bar{x})(y_i - \\bar{y})}{\\sum_{i=1}^{n} (x_i - \\bar{x})^2}$\n",
    "\n",
    "    \n",
    "$\\beta_0 = \\bar{y} - \\beta_1 \\bar{x}$\n"
   ]
  },
  {
   "cell_type": "code",
   "execution_count": null,
   "id": "77113a30",
   "metadata": {},
   "outputs": [],
   "source": [
    "# your code\n",
    "# only numpy vector "
   ]
  },
  {
   "cell_type": "code",
   "execution_count": 83,
   "id": "cbc2b6f5",
   "metadata": {},
   "outputs": [
    {
     "data": {
      "text/plain": [
       "(0.4937590904869571, 6.49639120614155)"
      ]
     },
     "execution_count": 83,
     "metadata": {},
     "output_type": "execute_result"
    }
   ],
   "source": [
    "x_mean = np.mean(x)\n",
    "y_mean = np.mean(y)\n",
    "x_mean, y_mean\n",
    "# dot product, multiply and take sum \n",
    "\n",
    "### see herebrt's lin reg ols function "
   ]
  },
  {
   "cell_type": "markdown",
   "id": "b7b03508",
   "metadata": {},
   "source": [
    "### Challenge: What happens when you increase the sample size? Calculate the error of your estimated $\\beta_1$ to the real $\\beta_1$ and plot your error as the sample size increases."
   ]
  },
  {
   "cell_type": "code",
   "execution_count": null,
   "id": "5448f1e3",
   "metadata": {},
   "outputs": [],
   "source": []
  },
  {
   "cell_type": "code",
   "execution_count": null,
   "id": "ec408f06",
   "metadata": {},
   "outputs": [],
   "source": []
  }
 ],
 "metadata": {
  "kernelspec": {
   "display_name": "Python 3 (ipykernel)",
   "language": "python",
   "name": "python3"
  },
  "language_info": {
   "codemirror_mode": {
    "name": "ipython",
    "version": 3
   },
   "file_extension": ".py",
   "mimetype": "text/x-python",
   "name": "python",
   "nbconvert_exporter": "python",
   "pygments_lexer": "ipython3",
   "version": "3.10.15"
  }
 },
 "nbformat": 4,
 "nbformat_minor": 5
}
